{
 "cells": [
  {
   "metadata": {},
   "cell_type": "markdown",
   "source": "# Мультиколлинеарность, масштабирование признаков и регуляризация",
   "id": "b425e3fd7d928349"
  },
  {
   "metadata": {},
   "cell_type": "markdown",
   "source": [
    "## 1. Мультиколлинеарность\n",
    "\n",
    "**Определение:**\n",
    "Мультиколлинеарность возникает, когда два или более признаков в данных линейно (или почти линейно) зависят друг от друга.\n",
    "В матрице признаков $X$ такие зависимости приводят к тому, что матрица $X^TX$ плохо обусловлена, а при вычислении обратной матрицы коэффициенты регрессии становятся неустойчивыми.\n",
    "\n",
    "**Почему это плохо:**\n",
    "- Коэффициенты регрессии неинтерпретируемы: нельзя однозначно сказать, какой признак реально влияет на целевую переменную, а какой просто копирует информацию.\n",
    "- Стандартные ошибки коэффициентов (stderr) растут, доверительные интервалы расширяются.\n",
    "- Модель начинает \"шу­ми­ть\": на новых данных предсказания сильно меняются при небольших изменениях в данных."
   ],
   "id": "c54ee02f43a2eae1"
  },
  {
   "metadata": {},
   "cell_type": "markdown",
   "source": [
    "### 1.1 Пример\n",
    "\n",
    "Создадим синтетический датасет, в котором два признака почти полностью линейно зависят друг от друга, а третий — независим."
   ],
   "id": "6facd91c4c22cc4a"
  },
  {
   "metadata": {
    "ExecuteTime": {
     "end_time": "2025-05-31T11:11:14.303140Z",
     "start_time": "2025-05-31T11:11:14.269889Z"
    }
   },
   "cell_type": "code",
   "source": [
    "import numpy as np\n",
    "import pandas as pd\n",
    "\n",
    "np.random.seed(0)\n",
    "\n",
    "n = 200\n",
    "x1 = np.random.rand(n)\n",
    "x2 = x1 + np.random.normal(0, 0.02, size=n)  # x2 почти полностью зависит от x1\n",
    "x3 = np.random.rand(n)\n",
    "y = 3 * x1 + 2 * x3 + np.random.normal(0, 0.1, size=n)\n",
    "\n",
    "df = pd.DataFrame({'x1': x1, 'x2': x2, 'x3': x3, 'y': y})\n",
    "df.head()"
   ],
   "id": "c8b7244528b27ce3",
   "outputs": [
    {
     "data": {
      "text/plain": [
       "         x1        x2        x3         y\n",
       "0  0.548814  0.571346  0.449292  2.427108\n",
       "1  0.715189  0.693591  0.304468  2.884648\n",
       "2  0.602763  0.579814  0.839189  3.576194\n",
       "3  0.544883  0.536127  0.237742  2.247630\n",
       "4  0.423655  0.413694  0.502389  2.142522"
      ],
      "text/html": [
       "<div>\n",
       "<style scoped>\n",
       "    .dataframe tbody tr th:only-of-type {\n",
       "        vertical-align: middle;\n",
       "    }\n",
       "\n",
       "    .dataframe tbody tr th {\n",
       "        vertical-align: top;\n",
       "    }\n",
       "\n",
       "    .dataframe thead th {\n",
       "        text-align: right;\n",
       "    }\n",
       "</style>\n",
       "<table border=\"1\" class=\"dataframe\">\n",
       "  <thead>\n",
       "    <tr style=\"text-align: right;\">\n",
       "      <th></th>\n",
       "      <th>x1</th>\n",
       "      <th>x2</th>\n",
       "      <th>x3</th>\n",
       "      <th>y</th>\n",
       "    </tr>\n",
       "  </thead>\n",
       "  <tbody>\n",
       "    <tr>\n",
       "      <th>0</th>\n",
       "      <td>0.548814</td>\n",
       "      <td>0.571346</td>\n",
       "      <td>0.449292</td>\n",
       "      <td>2.427108</td>\n",
       "    </tr>\n",
       "    <tr>\n",
       "      <th>1</th>\n",
       "      <td>0.715189</td>\n",
       "      <td>0.693591</td>\n",
       "      <td>0.304468</td>\n",
       "      <td>2.884648</td>\n",
       "    </tr>\n",
       "    <tr>\n",
       "      <th>2</th>\n",
       "      <td>0.602763</td>\n",
       "      <td>0.579814</td>\n",
       "      <td>0.839189</td>\n",
       "      <td>3.576194</td>\n",
       "    </tr>\n",
       "    <tr>\n",
       "      <th>3</th>\n",
       "      <td>0.544883</td>\n",
       "      <td>0.536127</td>\n",
       "      <td>0.237742</td>\n",
       "      <td>2.247630</td>\n",
       "    </tr>\n",
       "    <tr>\n",
       "      <th>4</th>\n",
       "      <td>0.423655</td>\n",
       "      <td>0.413694</td>\n",
       "      <td>0.502389</td>\n",
       "      <td>2.142522</td>\n",
       "    </tr>\n",
       "  </tbody>\n",
       "</table>\n",
       "</div>"
      ]
     },
     "execution_count": 13,
     "metadata": {},
     "output_type": "execute_result"
    }
   ],
   "execution_count": 13
  },
  {
   "metadata": {},
   "cell_type": "markdown",
   "source": [
    "### 1.2 Корреляционная матрица\n",
    "\n",
    "**Корреляция** измеряет линейную зависимость между двумя признаками. Значение корреляции (коэффициент Пирсона) лежит в диапазоне $[-1, 1]$, где:\n",
    "- +1 означает полную положительную линейную зависимость,\n",
    "- -1 означает полную отрицательную линейную зависимость,\n",
    "- 0 означает отсутствие линейной зависимости.\n",
    "\n",
    "**Матрица корреляций** показывает попарные коэффициенты корреляции между всеми признаками.\n",
    "- Высокое абсолютное значение (близкое к 1) говорит о сильной линейной зависимости.\n",
    "- Но матрица корреляций демонстрирует лишь зависимости между парами признаков, не показывает сложные мультиколлинеарные связи более чем между двумя признаками одновременно."
   ],
   "id": "b00cea8f23d4468c"
  },
  {
   "metadata": {
    "ExecuteTime": {
     "end_time": "2025-05-31T11:13:31.284287Z",
     "start_time": "2025-05-31T11:13:31.193524Z"
    }
   },
   "cell_type": "code",
   "source": [
    "import seaborn as sns\n",
    "import matplotlib.pyplot as plt\n",
    "\n",
    "corr = df[['x1', 'x2', 'x3']].corr()\n",
    "print(\"Корреляционная матрица:\")\n",
    "print(corr)\n",
    "\n",
    "plt.figure(figsize=(4, 3))\n",
    "sns.heatmap(corr, annot=True, cmap='coolwarm')\n",
    "plt.title(\"Корреляционная матрица для x1, x2, x3\")\n",
    "plt.show()"
   ],
   "id": "332dbc7257de27e8",
   "outputs": [
    {
     "name": "stdout",
     "output_type": "stream",
     "text": [
      "Корреляционная матрица:\n",
      "          x1        x2        x3\n",
      "x1  1.000000  0.997702 -0.050848\n",
      "x2  0.997702  1.000000 -0.054520\n",
      "x3 -0.050848 -0.054520  1.000000\n"
     ]
    },
    {
     "data": {
      "text/plain": [
       "<Figure size 400x300 with 2 Axes>"
      ],
      "image/png": "[encoded data removed]"
     },
     "metadata": {},
     "output_type": "display_data"
    }
   ],
   "execution_count": 14
  },
  {
   "metadata": {},
   "cell_type": "markdown",
   "source": [
    "### 1.3 VIF (Variance Inflation Factor)\n",
    "\n",
    "**Что такое VIF и зачем он нужен?**\n",
    "- VIF показывает, насколько признак увеличивает дисперсию оценок коэффициентов в линейной регрессии из-за мультиколлинеарности.\n",
    "- Для каждого признака $x_i$ вычисляется коэффициент детерминации $R_i^2$ при регрессии $x_i$ на все остальные признаки:\n",
    "  $$\n",
    "    x_i = \\beta_0 + \\sum_{j \\neq i} \\beta_j x_j + \\varepsilon.\n",
    "  $$\n",
    "- Затем вычисляется\n",
    "  $$\n",
    "    \\text{VIF}_i = \\frac{1}{1 - R_i^2}.\n",
    "  $$\n",
    "- Если $R_i^2$ близко к 1 (признак $x_i$ хорошо предсказывается остальными признаками), то VIF становится большим.\n",
    "\n",
    "**Интерпретация VIF:**\n",
    "- $\\text{VIF} = 1$ означает отсутствие корреляции с другими признаками.\n",
    "- $\\text{VIF} > 5$ (или некоторые рекомендуют >10) указывает на сильную мультиколлинеарность и потенциальные проблемы с оценками коэффициентов.\n",
    "- Чем выше VIF, тем менее надежны оценки соответствующего коэффициента в линейной регрессии.\n"
   ],
   "id": "bcc5ab5d58c7bd98"
  },
  {
   "metadata": {
    "ExecuteTime": {
     "end_time": "2025-05-31T11:14:56.718686Z",
     "start_time": "2025-05-31T11:14:56.710200Z"
    }
   },
   "cell_type": "code",
   "source": [
    "from statsmodels.stats.outliers_influence import variance_inflation_factor\n",
    "\n",
    "X = df[['x1', 'x2', 'x3']].values\n",
    "vif_data = pd.DataFrame({\n",
    "    'feature': ['x1', 'x2', 'x3'],\n",
    "    'VIF': [variance_inflation_factor(X, i) for i in range(X.shape[1])]\n",
    "})\n",
    "print(\"VIF для каждого признака:\")\n",
    "vif_data\n"
   ],
   "id": "549338f1e71feda",
   "outputs": [
    {
     "name": "stdout",
     "output_type": "stream",
     "text": [
      "VIF для каждого признака:\n"
     ]
    },
    {
     "data": {
      "text/plain": [
       "  feature         VIF\n",
       "0      x1  896.228508\n",
       "1      x2  894.711237\n",
       "2      x3    2.225174"
      ],
      "text/html": [
       "<div>\n",
       "<style scoped>\n",
       "    .dataframe tbody tr th:only-of-type {\n",
       "        vertical-align: middle;\n",
       "    }\n",
       "\n",
       "    .dataframe tbody tr th {\n",
       "        vertical-align: top;\n",
       "    }\n",
       "\n",
       "    .dataframe thead th {\n",
       "        text-align: right;\n",
       "    }\n",
       "</style>\n",
       "<table border=\"1\" class=\"dataframe\">\n",
       "  <thead>\n",
       "    <tr style=\"text-align: right;\">\n",
       "      <th></th>\n",
       "      <th>feature</th>\n",
       "      <th>VIF</th>\n",
       "    </tr>\n",
       "  </thead>\n",
       "  <tbody>\n",
       "    <tr>\n",
       "      <th>0</th>\n",
       "      <td>x1</td>\n",
       "      <td>896.228508</td>\n",
       "    </tr>\n",
       "    <tr>\n",
       "      <th>1</th>\n",
       "      <td>x2</td>\n",
       "      <td>894.711237</td>\n",
       "    </tr>\n",
       "    <tr>\n",
       "      <th>2</th>\n",
       "      <td>x3</td>\n",
       "      <td>2.225174</td>\n",
       "    </tr>\n",
       "  </tbody>\n",
       "</table>\n",
       "</div>"
      ]
     },
     "execution_count": 15,
     "metadata": {},
     "output_type": "execute_result"
    }
   ],
   "execution_count": 15
  },
  {
   "metadata": {},
   "cell_type": "markdown",
   "source": [
    "### 1.4 Условное число (Condition Number)\n",
    "\n",
    "**Что такое условное число и зачем оно нужно?**\n",
    "- Матрица $X^TX$ характеризует прямую систему нормальных уравнений для линейной регрессии.\n",
    "- Условное число (condition number) вычисляется как отношение максимального собственного значения $\\lambda_{\\max}$ матрицы $X^TX$ к минимальному собственному значению $\\lambda_{\\min}$:\n",
    "  $$\n",
    "    \\kappa(X^TX) = \\frac{\\lambda_{\\max}}{\\lambda_{\\min}}.\n",
    "  $$\n",
    "- Если $\\kappa$ велико (обычно говорят, что порог ~30–100), это означает, что матрица близка к вырождению (чем выше $\\kappa$, тем хуже обусловленность).\n",
    "- В плохо обусловленных системах даже небольшие шумы в данных приводят к большим погрешностям в вычислении коэффициентов."
   ],
   "id": "e101cd48a0e0487a"
  },
  {
   "metadata": {
    "ExecuteTime": {
     "end_time": "2025-05-31T11:17:38.985690Z",
     "start_time": "2025-05-31T11:17:38.980336Z"
    }
   },
   "cell_type": "code",
   "source": [
    "eigenvalues = np.linalg.eigvals(np.dot(X.T, X))\n",
    "cond_number = np.max(eigenvalues) / np.min(eigenvalues)\n",
    "print(\"Условное число матрицы X^TX:\", cond_number)"
   ],
   "id": "6742367b0e5130b0",
   "outputs": [
    {
     "name": "stdout",
     "output_type": "stream",
     "text": [
      "Условное число матрицы X^TX: 4825.118404416437\n"
     ]
    }
   ],
   "execution_count": 16
  },
  {
   "metadata": {},
   "cell_type": "markdown",
   "source": [
    "### 1.5 Способы устранения мультиколлинеарности без регуляризации\n",
    "\n",
    "1. **Отбор признаков вручную**\n",
    "   - Удалить один из пары сильно коррелированных признаков, оставив тот, который более значим с точки зрения таргета.\n",
    "   - Пример: из двух похожих признаков \"площадь кухни\" и \"общая площадь\" оставить только \"общая площадь\".\n",
    "\n",
    "2. **Principal Component Analysis (PCA)**\n",
    "   - PCA преобразует набор коррелированных признаков в новый набор некоррелированных (главных компонент), упорядоченных по величине объясняемой дисперсии.\n",
    "   - Формально: матрица $X$ проецируется на собственные векторы ковариационной матрицы.\n",
    "   - Минус: теряется прямая интерпретация исходных признаков.\n",
    "\n",
    "3. **SVD (Singular Value Decomposition) или Gram-Schmidt**\n",
    "   - SVD разлагает $X = U \\Sigma V^T$, где столбцы $V$ — ортонормированные базисы в пространстве признаков.\n",
    "   - Gram-Schmidt позволяет построить ортонормированный базис по векторам признаков напрямую, исключая линейные зависимости.\n",
    "\n",
    "Во всех случаях цель — избавиться от линейных зависимостей между признаками."
   ],
   "id": "a90b0537eba6e53d"
  },
  {
   "metadata": {
    "ExecuteTime": {
     "end_time": "2025-05-31T11:23:19.070211Z",
     "start_time": "2025-05-31T11:23:19.059075Z"
    }
   },
   "cell_type": "code",
   "source": [
    "from sklearn.linear_model import LinearRegression\n",
    "from sklearn.decomposition import PCA\n",
    "\n",
    "# Удаление x2\n",
    "X_reduced = df[['x1', 'x3']].values\n",
    "lr_reduced = LinearRegression().fit(X_reduced, df['y'])\n",
    "print(\"Коэффициенты после удаления x2:\", lr_reduced.coef_)\n",
    "\n",
    "# PCA для x1 и x2 -> 1 компонент\n",
    "pca = PCA(n_components=1)\n",
    "pc12 = pca.fit_transform(df[['x1', 'x2']])\n",
    "X_pca = np.hstack([pc12, df[['x3']].values])\n",
    "lr_pca = LinearRegression().fit(X_pca, df['y'])\n",
    "print(\"Коэффициенты для (PC12, x3):\", lr_pca.coef_)"
   ],
   "id": "aa6a241f684f48b6",
   "outputs": [
    {
     "name": "stdout",
     "output_type": "stream",
     "text": [
      "Коэффициенты после удаления x2: [2.95664061 1.98060116]\n",
      "Коэффициенты для (PC12, x3): [2.09747744 1.98584931]\n"
     ]
    }
   ],
   "execution_count": 17
  },
  {
   "metadata": {},
   "cell_type": "markdown",
   "source": [
    "## 2. Масштабирование признаков\n",
    "\n",
    "Масштабирование признаков необходимо, чтобы признаки с разными величинами не доминировали при оптимизации и чтобы регуляризация корректно штрафовала параметры.\n",
    "Например, если один признак измеряется в тысячах, а другой — в сотнях тысяч, оптимизация может \"скакать\" по направлению большого признака, а регуляризация не будет равномерно применять штраф."
   ],
   "id": "7fa30a27d74e8ee1"
  },
  {
   "metadata": {},
   "cell_type": "markdown",
   "source": [
    "### 2.1 Основные методы масштабирования\n",
    "\n",
    "1. **StandardScaler (Z-score)**\n",
    "   - Формула:\n",
    "     $$\n",
    "       x_{\text{scaled}} = \\frac{x - \\mu}{\\sigma},\n",
    "     $$\n",
    "     где $\\mu$ — среднее по признаку, $\\sigma$ — стандартное отклонение.\n",
    "     $$\n",
    "        \\mu = \\frac{1}{n}\\sum_{i=1}^{n} x_i\n",
    "    $$\n",
    "    $$\n",
    "        \\sigma = \\sqrt{\\frac{1}{n}\\sum_{i=1}^{n}(x_i - \\mu)^2}\n",
    "    $$\n",
    "   - После применения среднее признака становится 0, а стандартное отклонение — 1.\n",
    "   - Подходит, если распределение признака примерно нормальное, но работает и с другим.\n",
    "\n",
    "2. **MinMaxScaler**\n",
    "   - Формула:\n",
    "     $$\n",
    "       x_{\text{scaled}} = \\frac{x - x_{\\min}}{x_{\\max} - x_{\\min}}.\n",
    "     $$\n",
    "   - Приводит данные в диапазон [0, 1].\n",
    "   - Чувствителен к выбросам: если в данных есть экстремальные значения, они сильно \"сжимают\" весь диапазон.\n",
    "\n",
    "3. **RobustScaler**\n",
    "   - Формула:\n",
    "     $$\n",
    "       x_{\text{scaled}} = \\frac{x - \\text{median}(x)}{\\text{IQR}(x)},\n",
    "     $$\n",
    "     где IQR = 75-й перцентиль − 25-й перцентиль.\n",
    "   - Менее чувствителен к выбросам, так как использует медиану и межквартильный размах.\n",
    "\n",
    "4. **MaxAbsScaler**\n",
    "   - Формула:\n",
    "     $$\n",
    "       x_{\text{scaled}} = \\frac{x}{\\max|x|},\n",
    "     $$\n",
    "   - Преобразует данные в диапазон [-1, 1].\n",
    "   - Сохраняет разреженность (sparsity) в случае разреженных матриц (tf-idf и др.).\n",
    "\n",
    "**Когда масштабировать:**\n",
    "- Перед применением регуляризованных моделей (Ridge, Lasso, ElasticNet) обязательно.\n",
    "- Перед алгоритмами, основанными на расстояниях (KNN, SVM, k-means).\n",
    "- Перед обучением нейронных сетей, чтобы ускорить сходимость и избежать \"взрывных\" или \"затухающих\" градиентов."
   ],
   "id": "3a98a554fcb8bb4c"
  },
  {
   "metadata": {
    "ExecuteTime": {
     "end_time": "2025-05-31T11:27:34.341660Z",
     "start_time": "2025-05-31T11:27:34.329093Z"
    }
   },
   "cell_type": "code",
   "source": [
    "from sklearn.preprocessing import StandardScaler, MinMaxScaler\n",
    "from sklearn.linear_model import Ridge\n",
    "from sklearn.model_selection import train_test_split\n",
    "\n",
    "# Разделение на train/test\n",
    "X_full = df[['x1', 'x2', 'x3']].values\n",
    "y_full = df['y'].values\n",
    "X_train, X_test, y_train, y_test = train_test_split(X_full, y_full, test_size=0.3, random_state=42)\n",
    "\n",
    "# 1) Без масштабирования\n",
    "ridge_none = Ridge(alpha=1.0).fit(X_train, y_train)\n",
    "coef_none = ridge_none.coef_\n",
    "\n",
    "# 2) StandardScaler\n",
    "scaler_std = StandardScaler().fit(X_train)\n",
    "X_train_std = scaler_std.transform(X_train)\n",
    "X_test_std = scaler_std.transform(X_test)\n",
    "ridge_std = Ridge(alpha=1.0).fit(X_train_std, y_train)\n",
    "coef_std = ridge_std.coef_\n",
    "\n",
    "# 3) MinMaxScaler\n",
    "scaler_mm = MinMaxScaler().fit(X_train)\n",
    "X_train_mm = scaler_mm.transform(X_train)\n",
    "X_test_mm = scaler_mm.transform(X_test)\n",
    "ridge_mm = Ridge(alpha=1.0).fit(X_train_mm, y_train)\n",
    "coef_mm = ridge_mm.coef_\n",
    "\n",
    "pd.DataFrame({\n",
    "    'Без масштабирования': coef_none,\n",
    "    'StandardScaler': coef_std,\n",
    "    'MinMaxScaler': coef_mm\n",
    "}, index=['x1', 'x2', 'x3'])"
   ],
   "id": "c6268695222a5b52",
   "outputs": [
    {
     "data": {
      "text/plain": [
       "    Без масштабирования  StandardScaler  MinMaxScaler\n",
       "x1             1.475500        0.529602      1.476866\n",
       "x2             1.369390        0.294740      1.361355\n",
       "x3             1.801722        0.561631      1.796499"
      ],
      "text/html": [
       "<div>\n",
       "<style scoped>\n",
       "    .dataframe tbody tr th:only-of-type {\n",
       "        vertical-align: middle;\n",
       "    }\n",
       "\n",
       "    .dataframe tbody tr th {\n",
       "        vertical-align: top;\n",
       "    }\n",
       "\n",
       "    .dataframe thead th {\n",
       "        text-align: right;\n",
       "    }\n",
       "</style>\n",
       "<table border=\"1\" class=\"dataframe\">\n",
       "  <thead>\n",
       "    <tr style=\"text-align: right;\">\n",
       "      <th></th>\n",
       "      <th>Без масштабирования</th>\n",
       "      <th>StandardScaler</th>\n",
       "      <th>MinMaxScaler</th>\n",
       "    </tr>\n",
       "  </thead>\n",
       "  <tbody>\n",
       "    <tr>\n",
       "      <th>x1</th>\n",
       "      <td>1.475500</td>\n",
       "      <td>0.529602</td>\n",
       "      <td>1.476866</td>\n",
       "    </tr>\n",
       "    <tr>\n",
       "      <th>x2</th>\n",
       "      <td>1.369390</td>\n",
       "      <td>0.294740</td>\n",
       "      <td>1.361355</td>\n",
       "    </tr>\n",
       "    <tr>\n",
       "      <th>x3</th>\n",
       "      <td>1.801722</td>\n",
       "      <td>0.561631</td>\n",
       "      <td>1.796499</td>\n",
       "    </tr>\n",
       "  </tbody>\n",
       "</table>\n",
       "</div>"
      ]
     },
     "execution_count": 18,
     "metadata": {},
     "output_type": "execute_result"
    }
   ],
   "execution_count": 18
  },
  {
   "metadata": {},
   "cell_type": "markdown",
   "source": [
    "### 2.2 Типичные ошибки при масштабировании\n",
    "\n",
    "- **Утечка данных (Data Leakage)**: использовать весь датасет (train + test) для обучения scaler'а.\n",
    "  - Правильно: вычислять параметры масштабирования ($\\mu$, $\\sigma$, $x_{\\min}$, $x_{\\max}$) только на обучающей выборке и применять к тестовой.\n",
    "\n",
    "- **Масштабирование dummy-переменных (one-hot encoded)**: после one-hot признаки принимают значения 0 или 1, масштабирование бессмысленно.\n",
    "- **Неправильный выбор метода**:\n",
    "  - MinMaxScaler при наличии выбросов − сильное \"сжатие\" основного диапазона.\n",
    "  - StandardScaler при сильно скошенных распределениях может не вернуть распределение к нормальному виду, но чаще всего всё равно полезен."
   ],
   "id": "f03f8f571e21f7af"
  },
  {
   "metadata": {},
   "cell_type": "markdown",
   "source": [
    "## 3. Регуляризация\n",
    "\n",
    "Регуляризация — это введение дополнительного штрафа в функцию потерь, направленного на ограничение величины коэффициентов модели.\n",
    "Цели регуляризации:\n",
    "- Уменьшить переобучение (overfitting) за счет ограничения \"сложности\" модели.\n",
    "- Сгладить оценки коэффициентов при наличии мультиколлинеарности.\n",
    "\n",
    "Рассмотрим три основных подхода в линейных моделях:\n",
    "1. **Ridge (L2-регуляризация)**\n",
    "2. **Lasso (L1-регуляризация)**\n",
    "3. **ElasticNet (смешанная L1 + L2)**"
   ],
   "id": "54adc4df4958828d"
  },
  {
   "metadata": {},
   "cell_type": "markdown",
   "source": [
    "### 3.1 Формулы регуляризации\n",
    "\n",
    "1. **Ridge (L2-регуляризация)**\n",
    "   При минимизации функции потерь добавляется штраф:\n",
    "   $$\n",
    "     L(w) = \\sum_{i=1}^n (y_i - w^T x_i)^2 + \\lambda \\sum_{j=1}^p w_j^2.\n",
    "   $$\n",
    "   - $\\lambda \\ge 0$ — гиперпараметр штрафа.\n",
    "   - Чем больше $\\lambda$, тем сильнее коэффициенты сжимаются к нулю, но они редко становятся точно нулевыми.\n",
    "\n",
    "2. **Lasso (L1-регуляризация)**\n",
    "   $$\n",
    "     L(w) = \\sum_{i=1}^n (y_i - w^T x_i)^2 + \\lambda \\sum_{j=1}^p |w_j|.\n",
    "   $$\n",
    "   - $L1$-шраф заставляет часть коэффициентов становиться ровно нулём, что даёт автоматический отбор признаков.\n",
    "   - При наличии сильно коррелированных признаков Lasso может \"вычёркивать\" один из группы, но не гарантирует выбор \"правильного\" с точки зрения домена.\n",
    "\n",
    "3. **ElasticNet**\n",
    "   Комбинирует L1 и L2:\n",
    "   $$\n",
    "     L(w) = \\sum_{i=1}^n (y_i - w^T x_i)^2 + \\alpha \\, [\\rho \\sum_{j=1}^p |w_j| + (1 - \\rho) \\sum_{j=1}^p w_j^2 ].\n",
    "   $$\n",
    "   - $\\alpha$ — общая сила штрафа.\n",
    "   - $\\rho$ (или `l1_ratio`) — доля $L1$-шрафа в общей регуляризации.\n",
    "   - ElasticNet сочетает свойства Lasso (способность обнулять коэффициенты) и Ridge (устойчивость при коррелированных признаках).\n"
   ],
   "id": "583bd7bb8c19d8a4"
  },
  {
   "metadata": {
    "ExecuteTime": {
     "end_time": "2025-05-31T11:33:19.578568Z",
     "start_time": "2025-05-31T11:33:19.456092Z"
    }
   },
   "cell_type": "code",
   "source": [
    "from sklearn.linear_model import Lasso, ElasticNet\n",
    "from sklearn.model_selection import GridSearchCV\n",
    "\n",
    "# Предполагается, что X_train_std и y_train уже определены (из раздела масштабирования)\n",
    "\n",
    "# 1) Ridge\n",
    "param_grid_ridge = {'alpha': np.logspace(-3, 2, 10)}\n",
    "ridge_cv = GridSearchCV(Ridge(), param_grid_ridge, cv=5)\n",
    "ridge_cv.fit(X_train_std, y_train)\n",
    "best_ridge = ridge_cv.best_estimator_\n",
    "coef_ridge = best_ridge.coef_\n",
    "alpha_ridge = ridge_cv.best_params_['alpha']\n",
    "\n",
    "# 2) Lasso\n",
    "param_grid_lasso = {'alpha': np.logspace(-3, 1, 10)}\n",
    "lasso_cv = GridSearchCV(Lasso(max_iter=10000), param_grid_lasso, cv=5)\n",
    "lasso_cv.fit(X_train_std, y_train)\n",
    "best_lasso = lasso_cv.best_estimator_\n",
    "coef_lasso = best_lasso.coef_\n",
    "alpha_lasso = lasso_cv.best_params_['alpha']\n",
    "\n",
    "# 3) ElasticNet\n",
    "param_grid_enet = {\n",
    "    'alpha': np.logspace(-3, 1, 5),\n",
    "    'l1_ratio': [0.2, 0.5, 0.8]\n",
    "}\n",
    "enet_cv = GridSearchCV(ElasticNet(max_iter=10000), param_grid_enet, cv=5)\n",
    "enet_cv.fit(X_train_std, y_train)\n",
    "best_enet = enet_cv.best_estimator_\n",
    "coef_enet = best_enet.coef_\n",
    "alpha_enet = enet_cv.best_params_\n",
    "\n",
    "pd.DataFrame({\n",
    "    'Model': ['Ridge', 'Lasso', 'ElasticNet'],\n",
    "    'Best Alpha(s)': [alpha_ridge, alpha_lasso, alpha_enet],\n",
    "    'Coefficients': [coef_ridge, coef_lasso, coef_enet]\n",
    "})"
   ],
   "id": "6ec1da2cb50d3728",
   "outputs": [
    {
     "data": {
      "text/plain": [
       "        Model                      Best Alpha(s)  \\\n",
       "0       Ridge                              0.001   \n",
       "1       Lasso                           0.002783   \n",
       "2  ElasticNet  {'alpha': 0.001, 'l1_ratio': 0.8}   \n",
       "\n",
       "                                        Coefficients  \n",
       "0  [0.8570689873732127, -0.029682692415560173, 0....  \n",
       "1      [0.8245772306064648, 0.0, 0.5612553061287288]  \n",
       "2  [0.8264699844120054, 2.9767461495976485e-06, 0...  "
      ],
      "text/html": [
       "<div>\n",
       "<style scoped>\n",
       "    .dataframe tbody tr th:only-of-type {\n",
       "        vertical-align: middle;\n",
       "    }\n",
       "\n",
       "    .dataframe tbody tr th {\n",
       "        vertical-align: top;\n",
       "    }\n",
       "\n",
       "    .dataframe thead th {\n",
       "        text-align: right;\n",
       "    }\n",
       "</style>\n",
       "<table border=\"1\" class=\"dataframe\">\n",
       "  <thead>\n",
       "    <tr style=\"text-align: right;\">\n",
       "      <th></th>\n",
       "      <th>Model</th>\n",
       "      <th>Best Alpha(s)</th>\n",
       "      <th>Coefficients</th>\n",
       "    </tr>\n",
       "  </thead>\n",
       "  <tbody>\n",
       "    <tr>\n",
       "      <th>0</th>\n",
       "      <td>Ridge</td>\n",
       "      <td>0.001</td>\n",
       "      <td>[0.8570689873732127, -0.029682692415560173, 0....</td>\n",
       "    </tr>\n",
       "    <tr>\n",
       "      <th>1</th>\n",
       "      <td>Lasso</td>\n",
       "      <td>0.002783</td>\n",
       "      <td>[0.8245772306064648, 0.0, 0.5612553061287288]</td>\n",
       "    </tr>\n",
       "    <tr>\n",
       "      <th>2</th>\n",
       "      <td>ElasticNet</td>\n",
       "      <td>{'alpha': 0.001, 'l1_ratio': 0.8}</td>\n",
       "      <td>[0.8264699844120054, 2.9767461495976485e-06, 0...</td>\n",
       "    </tr>\n",
       "  </tbody>\n",
       "</table>\n",
       "</div>"
      ]
     },
     "execution_count": 19,
     "metadata": {},
     "output_type": "execute_result"
    }
   ],
   "execution_count": 19
  },
  {
   "metadata": {},
   "cell_type": "markdown",
   "source": [
    "### 3.2 Путь коэффициентов (Coefficient Path)\n",
    "\n",
    "Путь коэффициентов показывает, как значения весов (коэффициентов) меняются при различных значениях $\\alpha$ (или $\\lambda$). Это помогает понять, какие признаки \"уходят\" в ноль первыми (для Lasso) или как сильно сжимаются (для Ridge)."
   ],
   "id": "52a7f1d23bca5ed7"
  },
  {
   "metadata": {
    "ExecuteTime": {
     "end_time": "2025-05-31T11:34:39.718089Z",
     "start_time": "2025-05-31T11:34:39.425964Z"
    }
   },
   "cell_type": "code",
   "source": [
    "import matplotlib.pyplot as plt\n",
    "\n",
    "alphas = np.logspace(-3, 1, 50)\n",
    "coefs_lasso_path = []\n",
    "coefs_ridge_path = []\n",
    "\n",
    "for a in alphas:\n",
    "    l = Lasso(alpha=a, max_iter=10000).fit(X_train_std, y_train)\n",
    "    r = Ridge(alpha=a).fit(X_train_std, y_train)\n",
    "    coefs_lasso_path.append(l.coef_)\n",
    "    coefs_ridge_path.append(r.coef_)\n",
    "\n",
    "coefs_lasso_path = np.array(coefs_lasso_path)\n",
    "coefs_ridge_path = np.array(coefs_ridge_path)\n",
    "\n",
    "# Lasso path\n",
    "plt.figure(figsize=(6, 4))\n",
    "for i in range(coefs_lasso_path.shape[1]):\n",
    "    plt.plot(alphas, coefs_lasso_path[:, i], label=f'coef_{i}')\n",
    "plt.xscale('log')\n",
    "plt.xlabel('alpha')\n",
    "plt.ylabel('коэффициенты Lasso')\n",
    "plt.title('Путь коэффициентов Lasso')\n",
    "plt.legend(loc='best')\n",
    "plt.show()\n",
    "\n",
    "# Ridge path\n",
    "plt.figure(figsize=(6, 4))\n",
    "for i in range(coefs_ridge_path.shape[1]):\n",
    "    plt.plot(alphas, coefs_ridge_path[:, i], label=f'coef_{i}')\n",
    "plt.xscale('log')\n",
    "plt.xlabel('alpha')\n",
    "plt.ylabel('коэффициенты Ridge')\n",
    "plt.title('Путь коэффициентов Ridge')\n",
    "plt.legend(loc='best')\n",
    "plt.show()"
   ],
   "id": "8be7a8687a14b2db",
   "outputs": [
    {
     "data": {
      "text/plain": [
       "<Figure size 600x400 with 1 Axes>"
      ],
      "image/png": "[encoded data removed]"
     },
     "metadata": {},
     "output_type": "display_data"
    },
    {
     "data": {
      "text/plain": [
       "<Figure size 600x400 with 1 Axes>"
      ],
      "image/png": "[encoded data removed]"
     },
     "metadata": {},
     "output_type": "display_data"
    }
   ],
   "execution_count": 20
  },
  {
   "metadata": {},
   "cell_type": "markdown",
   "source": [
    "### 3.3 Важные замечания о масштабировании и регуляризации\n",
    "\n",
    "- **Регуляризация без масштабирования бессмысленна**\n",
    "  L1 и L2 штрафы основаны на абсолютных или квадратичных значениях коэффициентов. Если признак в большем масштабе, его коэффициент будет \"меньше\" в штрафе, и наоборот.\n",
    "\n",
    "- **Выбор гиперпараметра**\n",
    "  - $\\alpha = 0$ → обычная линейная регрессия, риск переобучения.\n",
    "  - $\\alpha \\to \\infty$ → все коэффициенты стремятся к нулю, модель недообучена.\n",
    "  - Ищем \"золотую середину\" через кросс-валидацию (GridSearchCV).\n",
    "\n",
    "- **Поведение при мультиколлинеарности**\n",
    "  - Ridge: \"размазывает\" вес между слабо коррелированными признаками.\n",
    "  - Lasso: обнуляет некоторые коэффициенты, но при коррелированных признаках выбор может быть непредсказуем.\n",
    "  - ElasticNet: балансирует между обнулением и сжатием признаков."
   ],
   "id": "7d3cbcad07493e19"
  },
  {
   "metadata": {},
   "cell_type": "markdown",
   "source": [
    "## 4. Полный пример-пайплайн на реальных данных (California Housing)\n",
    "\n",
    "Загрузим датасет California Housing из sklearn и проведём следующие шаги:\n",
    "1. EDA → матрица корреляций, VIF.\n",
    "2. Выбор наиболее проблемных признаков (удаление при необходимости).\n",
    "3. Масштабирование признаков.\n",
    "4. Обучение LinearRegression без регуляризации.\n",
    "5. Обучение Ridge и Lasso.\n",
    "6. Сравнение результатов по MSE и $R^2$."
   ],
   "id": "39f8b92e5dd4fac8"
  },
  {
   "metadata": {
    "ExecuteTime": {
     "end_time": "2025-05-31T11:38:40.518742Z",
     "start_time": "2025-05-31T11:38:39.900361Z"
    }
   },
   "cell_type": "code",
   "source": [
    "from sklearn.datasets import fetch_california_housing\n",
    "from sklearn.preprocessing import StandardScaler\n",
    "from sklearn.metrics import mean_squared_error, r2_score\n",
    "from sklearn.model_selection import train_test_split\n",
    "\n",
    "# 1) Загрузка\n",
    "data = fetch_california_housing(as_frame=True)\n",
    "X_raw = data.data\n",
    "y_raw = data.target\n",
    "\n",
    "# 2) EDA: Корреляционная матрица\n",
    "corr_cal = X_raw.corr()\n",
    "plt.figure(figsize=(8, 6))\n",
    "sns.heatmap(corr_cal, annot=False, cmap='coolwarm')\n",
    "plt.title(\"Heatmap корреляций California Housing\")\n",
    "plt.show()\n",
    "\n",
    "# 3) VIF\n",
    "X_arr = X_raw.values\n",
    "vif_cal = pd.DataFrame({\n",
    "    'feature': X_raw.columns,\n",
    "    'VIF': [variance_inflation_factor(X_arr, i) for i in range(X_arr.shape[1])]\n",
    "}).sort_values(by='VIF', ascending=False)\n",
    "print(\"VIF для признаков California Housing:\")\n",
    "print(vif_cal)\n",
    "\n",
    "# 4) Train/Test split\n",
    "X_train_raw, X_test_raw, y_train, y_test = train_test_split(X_raw, y_raw, test_size=0.3, random_state=42)\n",
    "\n",
    "# 5) Масштабирование\n",
    "scaler_full = StandardScaler().fit(X_train_raw)\n",
    "X_train = scaler_full.transform(X_train_raw)\n",
    "X_test = scaler_full.transform(X_test_raw)\n",
    "\n",
    "# 6) Linear Regression без регуляризации\n",
    "lr_base = LinearRegression().fit(X_train, y_train)\n",
    "y_pred_base = lr_base.predict(X_test)\n",
    "mse_base = mean_squared_error(y_test, y_pred_base)\n",
    "r2_base = r2_score(y_test, y_pred_base)\n",
    "\n",
    "# 7) Ridge (alpha=1.0)\n",
    "ridge_model = Ridge(alpha=1.0).fit(X_train, y_train)\n",
    "y_pred_ridge = ridge_model.predict(X_test)\n",
    "mse_ridge = mean_squared_error(y_test, y_pred_ridge)\n",
    "r2_ridge = r2_score(y_test, y_pred_ridge)\n",
    "\n",
    "# 8) Lasso (alpha=0.1)\n",
    "lasso_model = Lasso(alpha=0.1, max_iter=10000).fit(X_train, y_train)\n",
    "y_pred_lasso = lasso_model.predict(X_test)\n",
    "mse_lasso = mean_squared_error(y_test, y_pred_lasso)\n",
    "r2_lasso = r2_score(y_test, y_pred_lasso)\n",
    "\n",
    "# 9) Результаты\n",
    "results = pd.DataFrame({\n",
    "    'Model': ['Linear', 'Ridge(alpha=1.0)', 'Lasso(alpha=0.1)'],\n",
    "    'MSE': [mse_base, mse_ridge, mse_lasso],\n",
    "    'R2': [r2_base, r2_ridge, r2_lasso]\n",
    "})\n",
    "print(\"Сравнение моделей:\")\n",
    "print(results)"
   ],
   "id": "30ddda81e17514b5",
   "outputs": [
    {
     "data": {
      "text/plain": [
       "<Figure size 800x600 with 2 Axes>"
      ],
      "image/png": "[encoded data removed]"
     },
     "metadata": {},
     "output_type": "display_data"
    },
    {
     "name": "stdout",
     "output_type": "stream",
     "text": [
      "VIF для признаков California Housing:\n",
      "      feature         VIF\n",
      "7   Longitude  633.711654\n",
      "6    Latitude  559.874071\n",
      "2    AveRooms   45.993601\n",
      "3   AveBedrms   43.590314\n",
      "0      MedInc   11.511140\n",
      "1    HouseAge    7.195917\n",
      "4  Population    2.935745\n",
      "5    AveOccup    1.095243\n",
      "Сравнение моделей:\n",
      "              Model       MSE        R2\n",
      "0            Linear  0.530568  0.595770\n",
      "1  Ridge(alpha=1.0)  0.530544  0.595789\n",
      "2  Lasso(alpha=0.1)  0.664812  0.493492\n"
     ]
    }
   ],
   "execution_count": 21
  },
  {
   "metadata": {},
   "cell_type": "markdown",
   "source": [
    "### 4.1 Анализ результатов\n",
    "\n",
    "В результирующей таблице представлены значения MSE и $R^2$ для моделей:\n",
    "- **Linear:** базовая линейная регрессия без регуляризации.\n",
    "- **Ridge (alpha=1.0):** линейная регрессия с L2-регуляризацией.\n",
    "- **Lasso (alpha=0.1):** линейная регрессия с L1-регуляризацией.\n",
    "\n",
    "**На что обратить внимание:**\n",
    "- Как изменились MSE и $R^2$ после добавления регуляризации.\n",
    "- Удалось ли Ridge снизить дисперсию и улучшить обобщающую способность.\n",
    "- Какие признаки обнулила Lasso (можно посмотреть `lasso_model.coef_`) и как это повлияло на метрики.\n"
   ],
   "id": "ef1ae1ea9e6358e4"
  },
  {
   "metadata": {},
   "cell_type": "markdown",
   "source": [
    "## 5. Заключение и будущее\n",
    "\n",
    "- **Выводы:**\n",
    "  - Мультиколлинеарность: выявляется через VIF и условное число, приводит к нестабильным оценкам.\n",
    "  - Масштабирование: обязательный шаг перед регуляризацией и в алгоритмах, чувствительных к масштабам.\n",
    "  - Регуляризация (Ridge, Lasso, ElasticNet): помогает контролировать сложность модели, но требует понимания:\n",
    "    - Ridge \"размазывает\" вес между коррелированными признаками.\n",
    "    - Lasso обнуляет часть признаков, выбор из коррелированных групп может быть непредсказуем.\n",
    "    - ElasticNet сочетает преимущества обоих.\n",
    "\n",
    "- **Будущее:**\n",
    "  - **Bayesian регуляризация (Bayesian Lasso, Spike-and-Slab):** более \"прозрачная\" интерпретация с распределениями весов.\n",
    "  - **Group Lasso, Sparse Group Lasso:** штраф по группам признаков, полезно при логически связанных фичах.\n",
    "  - **AutoML:** автоматический подбор методов масштабирования и регуляризации, но часто без объяснения \"почему\" выбран тот или иной метод."
   ],
   "id": "c825caedd818d4e9"
  }
 ],
 "metadata": {
  "kernelspec": {
   "display_name": "Python 3",
   "language": "python",
   "name": "python3"
  },
  "language_info": {
   "codemirror_mode": {
    "name": "ipython",
    "version": 2
   },
   "file_extension": ".py",
   "mimetype": "text/x-python",
   "name": "python",
   "nbconvert_exporter": "python",
   "pygments_lexer": "ipython2",
   "version": "2.7.6"
  }
 },
 "nbformat": 4,
 "nbformat_minor": 5
}
