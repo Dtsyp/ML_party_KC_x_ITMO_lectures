{
 "cells": [
  {
   "cell_type": "markdown",
   "id": "ce64d530",
   "metadata": {},
   "source": [
    "# Градиентный спуск\n",
    "\n",
    "**Градиент функции** — это вектор, координаты которого равны частным производным по соответствующим аргументам, вычисленным в данной точке.\n",
    "\n",
    "Рассмотрим функцию двух переменных $f(x, y)$.\\\n",
    "**Градиентом функции** двух переменных $f(x, y)$ будет вектор $\\nabla{f} = \\left(\\cfrac{df}{dx}, \\cfrac{df}{dy}\\right)$.\\\n",
    "Производные $\\cfrac{df}{dx}$ и $\\cfrac{df}{dy}$ вычисляются в каждой точке $(x, y)$.\\\n",
    "Таким образом, градиент задан в каждой точке и будет меняться от точки к точке.\n",
    "\n",
    "В данной точке градиент будет показывать направление наибольшего возрастания функции.\\\n",
    "Модуль градиента совпадает с максимальной скоростью возрастания функции в данной точке.\n",
    "\n",
    "Функция, для которой мы будем искать экстремум, в машинном обучении называется **целевой функцией (objective function)**.\\\n",
    "Задача по нахождению экстремума функции называется **задачей оптимизации**.\\\n",
    "Если речь идет о поиске минимума, то употребляют термины **функция стоимости (cost function)**, **функция потерь (loss function)**, **функция ошибок (error function)**.\n",
    "\n",
    "Если функция дифференцируема, то найти точки, подозрительные на экстремум, можно с помощью необходимого условия экстремума:\\\n",
    "все частные производные должны равняться нулю, а значит, вектор градиента – нулевому вектору.\n",
    "\n",
    "Но не всегда задачу можно решать аналитически.\\\n",
    "В таком случае используется численная оптимизация.\\\n",
    "Наиболее простым в реализации из всех методов численной оптимизации является **метод градиентного спуска**.\n",
    "\n",
    "**Градиентный спуск** – итерационный метод. Основная идея градиентного спуска состоит в том, чтобы двигаться к минимуму в направлении наиболее быстрого убывания функции потерь, которое определяется антиградиентом.\n",
    "\n",
    "Алгоритм градиентного спуска:\n",
    "- $x_0 = [c_1, \\dots, c_n]$\n",
    "- пока расстояние между $x_t$ и $x_{t−1}$ больше $\\varepsilon$, повторять $x_{t+1} = x_t − \\alpha \\cdot \\nabla f(x_t)$.\n",
    "\n",
    "<img src=\"./img/st_10_image1.jpg\" width=\"500\"/>\n",
    "\n",
    "Параметры алгоритма градиентного спуска:\n",
    "- стартовая точка\n",
    "- коэффициент скорости обучения $\\alpha$\n",
    "- $\\varepsilon$ - порог / критерий останова\n",
    "\n",
    "Градиентный спуск можно применять **для гладких выпуклых функций**.\\\n",
    "Выпуклость гарантирует существование лишь одного минимума, а гладкость – существование вектора градиента в каждой точке.  \n",
    "\n",
    "**Гладкой** или **непрерывно дифференцируемой функцией** называют функцию, имеющую непрерывную производную на всем множестве определения.  \n",
    "\n",
    "<img src=\"./img/006_700.png\" width=\"600\"/>\n",
    "\n",
    "**Выпуклой** (или **выпуклой вниз**) функцией называют функцию, для которой отрезок между любыми двумя точками ее графика в векторном пространстве лежит не ниже соответствующей дуги графика.  \n",
    "\n",
    "<img src=\"./img/007_400.png\" width=\"300\"/>\n",
    "\n",
    "<img src=\"./img/008.1_400.png\" width=\"350\"/>\n",
    "\n",
    "При решении задачи оптимизации нужно найти минимум функции.\\\n",
    "**Локальный минимум** функции – это когда значение функции минимально в некоторой окрестности точки.\\\n",
    "**Глобальный минимум** – это когда значение функции является минимальным среди всех её возможных значений.  \n",
    "\n",
    "<img src=\"./img/011_700.png\" width=\"600\"/>"
   ]
  },
  {
   "cell_type": "markdown",
   "id": "267386e4",
   "metadata": {},
   "source": [
    "## Градиентный спуск в линейной регрессии\n",
    "\n",
    "Квадратичная функция потерь $MSE$ хорошо подходит для оптимизации методом градиентного спуска и применяется для нахождения коэффициентов в задачах линейной регрессии.\n",
    "\n",
    "Функция однофакторной линейной регрессии – это прямая $\\hat{y} = a + b x$, которая проходит максимально близко к эмпирическим точкам.\n",
    "\n",
    "Функция потерь $MSE = \\cfrac{\\sum{(y-\\hat{y})^2}}{n}$\n",
    "\n",
    "Необходимо минимизировать функцию:\\\n",
    "$\\displaystyle F(a,b) = \\sum_{i=1}^{n}{(y_i - \\hat{y_i})^2} = \\sum_{i=1}^{n}{(a + b x_i - y_i)^2}$\n",
    "\n",
    "Для нахождения минимума нужны частные производные:\\\n",
    "$\\displaystyle \\cfrac{\\partial{F}}{\\partial{a}} = 2\\sum_{i=1}^{n}{(a + b x_i - y_i)}$ \\\n",
    "$\\displaystyle \\cfrac{\\partial{F}}{\\partial{b}} = 2\\sum_{i=1}^{n}{(a + b x_i - y_i)x_i}$"
   ]
  },
  {
   "cell_type": "code",
   "execution_count": 1,
   "id": "d986b0e9",
   "metadata": {},
   "outputs": [],
   "source": [
    "import numpy as np\n",
    "import pandas as pd\n",
    "\n",
    "import matplotlib.pyplot as plt\n",
    "import seaborn as sns\n",
    "\n",
    "from sklearn.linear_model import LinearRegression\n",
    "from sklearn.metrics import mean_squared_error\n",
    "\n",
    "from sympy import diff\n",
    "from sympy.abc import a,b,x,y\n",
    "\n",
    "import warnings\n",
    "warnings.filterwarnings('ignore')"
   ]
  },
  {
   "cell_type": "code",
   "execution_count": 2,
   "id": "e91a40f8",
   "metadata": {},
   "outputs": [],
   "source": [
    "# функция\n",
    "f = (a + b * x - y)**2"
   ]
  },
  {
   "cell_type": "code",
   "execution_count": 3,
   "id": "bd8e3231",
   "metadata": {},
   "outputs": [
    {
     "data": {
      "text/latex": [
       "$\\displaystyle 2 a + 2 b x - 2 y$"
      ],
      "text/plain": [
       "2*a + 2*b*x - 2*y"
      ]
     },
     "execution_count": 3,
     "metadata": {},
     "output_type": "execute_result"
    }
   ],
   "source": [
    "# частная производная функции по a\n",
    "diff(f, a)"
   ]
  },
  {
   "cell_type": "code",
   "execution_count": 4,
   "id": "4cfdbbe9",
   "metadata": {},
   "outputs": [
    {
     "data": {
      "text/latex": [
       "$\\displaystyle 2 x \\left(a + b x - y\\right)$"
      ],
      "text/plain": [
       "2*x*(a + b*x - y)"
      ]
     },
     "execution_count": 4,
     "metadata": {},
     "output_type": "execute_result"
    }
   ],
   "source": [
    "# частная производная функции по b\n",
    "diff(f, b)"
   ]
  },
  {
   "cell_type": "code",
   "execution_count": 5,
   "id": "f882e7ff",
   "metadata": {},
   "outputs": [],
   "source": [
    "# датасет\n",
    "df = pd.DataFrame({'X': [12,   9,   8, 14, 15, 11, 10, 15],\n",
    "                   'Y': [42, 107, 100, 60, 78, 79, 90 ,54]})"
   ]
  },
  {
   "cell_type": "code",
   "execution_count": 6,
   "id": "25980485",
   "metadata": {},
   "outputs": [
    {
     "data": {
      "image/png": "[encoded data removed]",
      "text/plain": [
       "<Figure size 700x500 with 1 Axes>"
      ]
     },
     "metadata": {},
     "output_type": "display_data"
    }
   ],
   "source": [
    "plt.figure(figsize=(7,5))\n",
    "sns.scatterplot(data=df, x='X', y='Y');"
   ]
  },
  {
   "cell_type": "code",
   "execution_count": 7,
   "id": "fba888e2",
   "metadata": {},
   "outputs": [],
   "source": [
    "# функция потерь\n",
    "def mse(a, b, x, y):\n",
    "    return np.sum((a + b*x - y)**2)\n",
    "\n",
    "# частная производная функции потерь по a\n",
    "def mse_pa(a, b, x, y):\n",
    "    return 2 * np.sum(a + b*x - y)\n",
    "\n",
    "# частная производная функции потерь по b\n",
    "def mse_pb(a, b, x, y):\n",
    "    return 2 * np.sum((a + b*x - y)*x)"
   ]
  },
  {
   "cell_type": "code",
   "execution_count": 8,
   "id": "8654ee30",
   "metadata": {},
   "outputs": [],
   "source": [
    "X = df['X'].values\n",
    "Y = df['Y'].values\n",
    "n = df.shape[0]"
   ]
  },
  {
   "cell_type": "code",
   "execution_count": 9,
   "id": "9b96dd1e",
   "metadata": {},
   "outputs": [
    {
     "name": "stdout",
     "output_type": "stream",
     "text": [
      "       0: a = 0.0122               b = 0.13709706400000002   mse = 6035.160551788596\n",
      "  100000: a = 74.9995314663167     b = -0.16602164745538592  mse = 452.6838302231339\n",
      "  200000: a = 111.70124260686227   b = -3.15131018056983     mse = 276.19429207517686\n",
      "  300000: a = 129.77740561791794   b = -4.621611168798081    mse = 233.38295032022643\n",
      "  400000: a = 138.68019676983243   b = -5.34575725116323     mse = 222.99813656813762\n",
      "  500000: a = 143.06495974448737   b = -5.702410448572362    mse = 220.4790761452487\n",
      "  600000: a = 145.2245236403238    b = -5.878067690003988    mse = 219.8680237406865\n",
      "  700000: a = 146.28814241451045   b = -5.964581610786184    mse = 219.719799808569\n",
      "  800000: a = 146.81199118739949   b = -6.007191061032344    mse = 219.68384489882905\n",
      "  900000: a = 147.0699948476535    b = -6.028176877347788    mse = 219.67512326045437\n",
      " 1000000: a = 147.19706565921268   b = -6.0385127179626386   mse = 219.6730076390694\n",
      " 1100000: a = 147.25965000834384   b = -6.0436032800647235   mse = 219.67249444949965\n",
      " 1200000: a = 147.29047377273318   b = -6.046110460997692    mse = 219.67236996430762\n",
      " 1300000: a = 147.30565495563465   b = -6.047345286563763    mse = 219.67233976774088\n",
      " 1400000: a = 147.3131319241015    b = -6.047953457341993    mse = 219.67233244291288\n",
      " 1500000: a = 147.31681444724688   b = -6.04825299089989     mse = 219.6723306661179\n",
      " 1600000: a = 147.31862814711675   b = -6.048400515831446    mse = 219.672330235118\n",
      " 1700000: a = 147.31952142248252   b = -6.0484731741523685   mse = 219.67233013056975\n",
      "\n",
      "Минимум\n",
      "1748305: a = 147.31977259728228  b = -6.0484936045144995  mse = 219.67233011397852\n",
      "\n",
      "CPU times: total: 23.7 s\n",
      "Wall time: 23.8 s\n"
     ]
    }
   ],
   "source": [
    "%%time\n",
    "lr = 1e-5    # learning rate\n",
    "# th = 0.0001  # threshold\n",
    "a = 0\n",
    "b = 0\n",
    "mse_min = mse(a,b,X,Y)\n",
    "\n",
    "for i in range(2*10**6):\n",
    "    a -= lr * mse_pa(a,b,X,Y)\n",
    "    b -= lr * mse_pb(a,b,X,Y)\n",
    "    mse_next = mse(a,b,X,Y)\n",
    "    if not i%(1*10**5):\n",
    "        print(f'{i:>8}: a = {a:<20} b = {b:<20}  mse = {mse_next/n}')\n",
    "    if mse_next > mse_min:\n",
    "        print(f'\\nМинимум\\n{i_min}: a = {a_min}  b = {b_min}  mse = {mse_min/n}\\n')\n",
    "        break\n",
    "    else:\n",
    "        mse_min = mse_next\n",
    "        i_min, a_min, b_min = i, a, b"
   ]
  },
  {
   "cell_type": "code",
   "execution_count": 10,
   "id": "b004b652",
   "metadata": {},
   "outputs": [],
   "source": [
    "df['yhat1'] = np.round(a_min + b_min * df['X'],0)"
   ]
  },
  {
   "cell_type": "code",
   "execution_count": null,
   "id": "2e22cb6d",
   "metadata": {},
   "outputs": [],
   "source": []
  },
  {
   "cell_type": "code",
   "execution_count": 11,
   "id": "de2e955f",
   "metadata": {},
   "outputs": [],
   "source": [
    "model = LinearRegression()\n",
    "\n",
    "X = df[['X']].values\n",
    "Y = df['Y'].values\n",
    "\n",
    "reg = model.fit(X,Y)\n",
    "# reg.intercept_, reg.coef_[0]"
   ]
  },
  {
   "cell_type": "code",
   "execution_count": 12,
   "id": "31d91d22",
   "metadata": {},
   "outputs": [
    {
     "name": "stdout",
     "output_type": "stream",
     "text": [
      "LinearRegression:\ta=147.3203883495146\tb=-6.048543689320389\n",
      "GradientDescent:\ta=147.31977259728228\tb=-6.0484936045144995\n"
     ]
    }
   ],
   "source": [
    "print(f\"LinearRegression:\\ta={reg.intercept_}\\tb={reg.coef_[0]}\\nGradientDescent:\\ta={a_min}\\tb={b_min}\")"
   ]
  },
  {
   "cell_type": "code",
   "execution_count": 13,
   "id": "c3aafa16",
   "metadata": {},
   "outputs": [],
   "source": [
    "df['yhat2'] = reg.predict(X).round(0)"
   ]
  },
  {
   "cell_type": "code",
   "execution_count": 14,
   "id": "1fa2ce90",
   "metadata": {},
   "outputs": [
    {
     "name": "stdout",
     "output_type": "stream",
     "text": [
      "LinearRegression:\tMSE=219.75\n",
      "GradientDescent:\tMSE=219.67233011397852\n"
     ]
    }
   ],
   "source": [
    "print(f\"LinearRegression:\\tMSE={mean_squared_error(Y, df['yhat2'])}\\nGradientDescent:\\tMSE={mse_min/n}\")"
   ]
  },
  {
   "cell_type": "code",
   "execution_count": 15,
   "id": "1c7314a8",
   "metadata": {},
   "outputs": [
    {
     "data": {
      "text/html": [
       "<div>\n",
       "<style scoped>\n",
       "    .dataframe tbody tr th:only-of-type {\n",
       "        vertical-align: middle;\n",
       "    }\n",
       "\n",
       "    .dataframe tbody tr th {\n",
       "        vertical-align: top;\n",
       "    }\n",
       "\n",
       "    .dataframe thead th {\n",
       "        text-align: right;\n",
       "    }\n",
       "</style>\n",
       "<table border=\"1\" class=\"dataframe\">\n",
       "  <thead>\n",
       "    <tr style=\"text-align: right;\">\n",
       "      <th></th>\n",
       "      <th>X</th>\n",
       "      <th>Y</th>\n",
       "      <th>yhat1</th>\n",
       "      <th>yhat2</th>\n",
       "    </tr>\n",
       "  </thead>\n",
       "  <tbody>\n",
       "    <tr>\n",
       "      <th>0</th>\n",
       "      <td>12</td>\n",
       "      <td>42</td>\n",
       "      <td>75.0</td>\n",
       "      <td>75.0</td>\n",
       "    </tr>\n",
       "    <tr>\n",
       "      <th>1</th>\n",
       "      <td>9</td>\n",
       "      <td>107</td>\n",
       "      <td>93.0</td>\n",
       "      <td>93.0</td>\n",
       "    </tr>\n",
       "    <tr>\n",
       "      <th>2</th>\n",
       "      <td>8</td>\n",
       "      <td>100</td>\n",
       "      <td>99.0</td>\n",
       "      <td>99.0</td>\n",
       "    </tr>\n",
       "    <tr>\n",
       "      <th>3</th>\n",
       "      <td>14</td>\n",
       "      <td>60</td>\n",
       "      <td>63.0</td>\n",
       "      <td>63.0</td>\n",
       "    </tr>\n",
       "    <tr>\n",
       "      <th>4</th>\n",
       "      <td>15</td>\n",
       "      <td>78</td>\n",
       "      <td>57.0</td>\n",
       "      <td>57.0</td>\n",
       "    </tr>\n",
       "    <tr>\n",
       "      <th>5</th>\n",
       "      <td>11</td>\n",
       "      <td>79</td>\n",
       "      <td>81.0</td>\n",
       "      <td>81.0</td>\n",
       "    </tr>\n",
       "    <tr>\n",
       "      <th>6</th>\n",
       "      <td>10</td>\n",
       "      <td>90</td>\n",
       "      <td>87.0</td>\n",
       "      <td>87.0</td>\n",
       "    </tr>\n",
       "    <tr>\n",
       "      <th>7</th>\n",
       "      <td>15</td>\n",
       "      <td>54</td>\n",
       "      <td>57.0</td>\n",
       "      <td>57.0</td>\n",
       "    </tr>\n",
       "  </tbody>\n",
       "</table>\n",
       "</div>"
      ],
      "text/plain": [
       "    X    Y  yhat1  yhat2\n",
       "0  12   42   75.0   75.0\n",
       "1   9  107   93.0   93.0\n",
       "2   8  100   99.0   99.0\n",
       "3  14   60   63.0   63.0\n",
       "4  15   78   57.0   57.0\n",
       "5  11   79   81.0   81.0\n",
       "6  10   90   87.0   87.0\n",
       "7  15   54   57.0   57.0"
      ]
     },
     "execution_count": 15,
     "metadata": {},
     "output_type": "execute_result"
    }
   ],
   "source": [
    "df"
   ]
  },
  {
   "cell_type": "code",
   "execution_count": 16,
   "id": "0ccb1427",
   "metadata": {},
   "outputs": [
    {
     "data": {
      "image/png": "[encoded data removed]",
      "text/plain": [
       "<Figure size 700x500 with 1 Axes>"
      ]
     },
     "metadata": {},
     "output_type": "display_data"
    }
   ],
   "source": [
    "plt.figure(figsize=(7,5))\n",
    "\n",
    "sns.scatterplot(data=df, x='X', y='Y')\n",
    "sns.lineplot(data=df, x='X', y='yhat1', color='r')\n",
    "sns.lineplot(data=df, x='X', y='yhat2', color='g', linestyle=':');"
   ]
  },
  {
   "cell_type": "markdown",
   "id": "d3a7d112",
   "metadata": {},
   "source": [
    "## Модификации градинтного спуска\n",
    "\n",
    "В нейронных сетях используется функция потерь, которую мы стараемся минимизировать.\\\n",
    "С помощью градиентного спуска рассчитываем веса на каждом этапе обучения.\n",
    "\n",
    "Минусы градиентного спуска:\n",
    "1. Градиентный спуск проходит по всем данным, что затратно по времени и ресурсам\n",
    "2. Фиксированные lerning rate, может попасть в локальный минимум и застрять там\n"
   ]
  },
  {
   "cell_type": "markdown",
   "id": "07c8def5",
   "metadata": {},
   "source": [
    "### Стохастический градиентый спуск (Stochastic Gradient Descent)\n",
    "\n",
    "<img src=\"./img/21_4_5cc6153d0c.png\" width=\"750\"/>\n",
    "\n",
    "SGD успешно применяется для решения крупномасштабных и разреженных задач машинного обучения, часто встречающихся в классификации текстов и обработке естественного языка.\n",
    "\n",
    "Использует batch (пакеты).\\\n",
    "Берет случайным образом небольшое подмножество данных (batch) и на нем обучается, т.е. вычисляется функция потерь.\\\n",
    "Обновляются параметры и шаг повторяется.\\\n",
    "Обрабатывает и обновляет парамметры по мере поступления данных.\n",
    "\n",
    "`+` Выигрываем в скорости\\\n",
    "`+` Позволяет не хранить весь набор данных в оперативной памяти\n",
    "\n",
    "`-` Чувствителен и не устойчив к выбросам и начальным значениям параметров\\\n",
    "`-` Может застрять в локальном минимуме\\\n",
    "`-` Если не достаточно хорошо очищены данные можем не достичь требуемого уровня точности (сходимости)"
   ]
  },
  {
   "cell_type": "markdown",
   "id": "65f765f8",
   "metadata": {},
   "source": [
    "### Стохастический градиентый спуск с импульсом (Stochastic Gridient Descent with momentum)\n",
    "\n",
    "Призвана помочь в решении проблемы попадания в локальные минимумы при оптимизации невыпуклых функций.\n",
    "\n",
    "<img src=\"./img/Annotation 2025-05-22 230758.png\" width=\"750\"/>\n",
    "\n",
    "<font color = '' size = '5'>$x_{k+1} = x_k - \\alpha_k \\nabla f(x_k) +$</font><font color = 'red' size = '5'>$\\beta_k(x_k-x_{k-1})$</font>\n",
    "\n",
    "На каждой новой итерации оптимизации используется скользящее среднее градиента.\\\n",
    "Движение в направлении среднего прошлых градиентов добавляет в алгоритм оптимизации эффект импульса, что позволяет скорректировать направление очередного шага, относительно исторически доминирующего направления.\\\n",
    "Для этих целей достаточно использовать приближенное скользящее среднее и не хранить все предыдущие значения градиентов.\n",
    "\n",
    "`-` может \"перескочить\" глобальный минимум\\\n",
    "`-` если данные не однородны, можем двигаться не в ту сторону\\\n",
    "`-` нужно настраивать 2 гиперпараметра: скорость обучения и импульс ==> больше вычислений"
   ]
  },
  {
   "cell_type": "markdown",
   "id": "2c8b0857",
   "metadata": {},
   "source": [
    "### Accelerated Gradient Descent (Nesterov Momentum)\n",
    "\n",
    "Модификация моментум, которая считает градиент не в текущей точке, а в точке, в которую мы бы пошли, следуя импульсу.\n",
    "\n",
    "<img src=\"./img/Annotation 2025-05-23 214232.png\" width=\"900\"/>\n",
    "\n",
    "<font color = '' size = '5'>$\\upsilon_{k+1} = \\beta_k \\upsilon_k - \\alpha_k \\nabla f$</font><font color = 'red' size = '5'>$(x_k + \\beta_k \\upsilon_k)$</font>\n",
    "\n",
    "<font color = '' size = '5'>$x_{k+1} = x_k + \\upsilon_{k+1}$</font>\n",
    "\n",
    "`+` позволяет значительно повысить устойчивость и скорость сходимости в некоторых случаях\n",
    "\n",
    "`-` нужно настраивать 2 гиперпараметра: скорость обучения и импульс ==> больше вычислений"
   ]
  },
  {
   "cell_type": "code",
   "execution_count": null,
   "id": "f798c6f1",
   "metadata": {},
   "outputs": [],
   "source": []
  },
  {
   "cell_type": "markdown",
   "id": "6698aeed",
   "metadata": {},
   "source": [
    "<img src=\"./img/optimizers.gif\" width=\"\"/>"
   ]
  },
  {
   "cell_type": "markdown",
   "id": "c27d1558",
   "metadata": {},
   "source": [
    "[Оптимизация в ML](https://education.yandex.ru/handbook/ml/article/optimizaciya-v-ml?utm_s=)\n",
    "\n",
    "[Оптимизаторы градиентных алгоритмов](https://proproprogs.ru/ml/ml-optimizatory-gradientnyh-algoritmov-rmsprop-adadelta-adam-nadam)"
   ]
  },
  {
   "cell_type": "code",
   "execution_count": null,
   "id": "4cd4eee5",
   "metadata": {},
   "outputs": [],
   "source": []
  }
 ],
 "metadata": {
  "kernelspec": {
   "display_name": "Python 3 (ipykernel)",
   "language": "python",
   "name": "python3"
  },
  "language_info": {
   "codemirror_mode": {
    "name": "ipython",
    "version": 3
   },
   "file_extension": ".py",
   "mimetype": "text/x-python",
   "name": "python",
   "nbconvert_exporter": "python",
   "pygments_lexer": "ipython3",
   "version": "3.12.7"
  }
 },
 "nbformat": 4,
 "nbformat_minor": 5
}
