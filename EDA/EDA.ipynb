{
 "cells": [
  {
   "cell_type": "markdown",
   "id": "9ec43512-b35a-4ef0-952a-7046d06b7a3a",
   "metadata": {},
   "source": [
    "# <font color = Crimson size = 6> <b>Разведочный анализ / EDA (exploratory data analysis)</b> </font>"
   ]
  },
  {
   "cell_type": "code",
   "execution_count": 1,
   "id": "94174d4d-7c4f-46fb-be97-6353aef03d84",
   "metadata": {},
   "outputs": [],
   "source": [
    "import numpy as np\n",
    "import pandas as pd\n",
    "\n",
    "import scipy.stats as stats\n",
    "import statsmodels.robust as robust\n",
    "\n",
    "import matplotlib.pyplot as plt\n",
    "import seaborn as sns\n",
    "\n",
    "import warnings\n",
    "warnings.filterwarnings('ignore')"
   ]
  },
  {
   "cell_type": "code",
   "execution_count": 2,
   "id": "e83c5729-517b-49a9-b6cd-9681138b73a0",
   "metadata": {},
   "outputs": [],
   "source": [
    "pd.set_option('display.max_columns', 50)"
   ]
  },
  {
   "cell_type": "code",
   "execution_count": 3,
   "id": "2e8a8198-190b-419b-a87d-597abb836572",
   "metadata": {},
   "outputs": [
    {
     "data": {
      "text/html": [
       "<div>\n",
       "<style scoped>\n",
       "    .dataframe tbody tr th:only-of-type {\n",
       "        vertical-align: middle;\n",
       "    }\n",
       "\n",
       "    .dataframe tbody tr th {\n",
       "        vertical-align: top;\n",
       "    }\n",
       "\n",
       "    .dataframe thead th {\n",
       "        text-align: right;\n",
       "    }\n",
       "</style>\n",
       "<table border=\"1\" class=\"dataframe\">\n",
       "  <thead>\n",
       "    <tr style=\"text-align: right;\">\n",
       "      <th></th>\n",
       "      <th>id</th>\n",
       "      <th>date</th>\n",
       "      <th>price</th>\n",
       "      <th>bedrooms</th>\n",
       "      <th>bathrooms</th>\n",
       "      <th>sqft_living</th>\n",
       "      <th>sqft_lot</th>\n",
       "      <th>floors</th>\n",
       "      <th>waterfront</th>\n",
       "      <th>view</th>\n",
       "      <th>condition</th>\n",
       "      <th>grade</th>\n",
       "      <th>sqft_above</th>\n",
       "      <th>sqft_basement</th>\n",
       "      <th>yr_built</th>\n",
       "      <th>yr_renovated</th>\n",
       "      <th>zipcode</th>\n",
       "      <th>lat</th>\n",
       "      <th>long</th>\n",
       "      <th>sqft_living15</th>\n",
       "      <th>sqft_lot15</th>\n",
       "    </tr>\n",
       "  </thead>\n",
       "  <tbody>\n",
       "    <tr>\n",
       "      <th>0</th>\n",
       "      <td>7129300520</td>\n",
       "      <td>20141013T000000</td>\n",
       "      <td>221900.0</td>\n",
       "      <td>3</td>\n",
       "      <td>1.00</td>\n",
       "      <td>1180</td>\n",
       "      <td>5650</td>\n",
       "      <td>1.0</td>\n",
       "      <td>0</td>\n",
       "      <td>0</td>\n",
       "      <td>3</td>\n",
       "      <td>7</td>\n",
       "      <td>1180</td>\n",
       "      <td>0</td>\n",
       "      <td>1955</td>\n",
       "      <td>0</td>\n",
       "      <td>98178</td>\n",
       "      <td>47.5112</td>\n",
       "      <td>-122.257</td>\n",
       "      <td>1340</td>\n",
       "      <td>5650</td>\n",
       "    </tr>\n",
       "    <tr>\n",
       "      <th>1</th>\n",
       "      <td>6414100192</td>\n",
       "      <td>20141209T000000</td>\n",
       "      <td>538000.0</td>\n",
       "      <td>3</td>\n",
       "      <td>2.25</td>\n",
       "      <td>2570</td>\n",
       "      <td>7242</td>\n",
       "      <td>2.0</td>\n",
       "      <td>0</td>\n",
       "      <td>0</td>\n",
       "      <td>3</td>\n",
       "      <td>7</td>\n",
       "      <td>2170</td>\n",
       "      <td>400</td>\n",
       "      <td>1951</td>\n",
       "      <td>1991</td>\n",
       "      <td>98125</td>\n",
       "      <td>47.7210</td>\n",
       "      <td>-122.319</td>\n",
       "      <td>1690</td>\n",
       "      <td>7639</td>\n",
       "    </tr>\n",
       "    <tr>\n",
       "      <th>2</th>\n",
       "      <td>5631500400</td>\n",
       "      <td>20150225T000000</td>\n",
       "      <td>180000.0</td>\n",
       "      <td>2</td>\n",
       "      <td>1.00</td>\n",
       "      <td>770</td>\n",
       "      <td>10000</td>\n",
       "      <td>1.0</td>\n",
       "      <td>0</td>\n",
       "      <td>0</td>\n",
       "      <td>3</td>\n",
       "      <td>6</td>\n",
       "      <td>770</td>\n",
       "      <td>0</td>\n",
       "      <td>1933</td>\n",
       "      <td>0</td>\n",
       "      <td>98028</td>\n",
       "      <td>47.7379</td>\n",
       "      <td>-122.233</td>\n",
       "      <td>2720</td>\n",
       "      <td>8062</td>\n",
       "    </tr>\n",
       "    <tr>\n",
       "      <th>3</th>\n",
       "      <td>2487200875</td>\n",
       "      <td>20141209T000000</td>\n",
       "      <td>604000.0</td>\n",
       "      <td>4</td>\n",
       "      <td>3.00</td>\n",
       "      <td>1960</td>\n",
       "      <td>5000</td>\n",
       "      <td>1.0</td>\n",
       "      <td>0</td>\n",
       "      <td>0</td>\n",
       "      <td>5</td>\n",
       "      <td>7</td>\n",
       "      <td>1050</td>\n",
       "      <td>910</td>\n",
       "      <td>1965</td>\n",
       "      <td>0</td>\n",
       "      <td>98136</td>\n",
       "      <td>47.5208</td>\n",
       "      <td>-122.393</td>\n",
       "      <td>1360</td>\n",
       "      <td>5000</td>\n",
       "    </tr>\n",
       "    <tr>\n",
       "      <th>4</th>\n",
       "      <td>1954400510</td>\n",
       "      <td>20150218T000000</td>\n",
       "      <td>510000.0</td>\n",
       "      <td>3</td>\n",
       "      <td>2.00</td>\n",
       "      <td>1680</td>\n",
       "      <td>8080</td>\n",
       "      <td>1.0</td>\n",
       "      <td>0</td>\n",
       "      <td>0</td>\n",
       "      <td>3</td>\n",
       "      <td>8</td>\n",
       "      <td>1680</td>\n",
       "      <td>0</td>\n",
       "      <td>1987</td>\n",
       "      <td>0</td>\n",
       "      <td>98074</td>\n",
       "      <td>47.6168</td>\n",
       "      <td>-122.045</td>\n",
       "      <td>1800</td>\n",
       "      <td>7503</td>\n",
       "    </tr>\n",
       "  </tbody>\n",
       "</table>\n",
       "</div>"
      ],
      "text/plain": [
       "           id             date     price  bedrooms  bathrooms  sqft_living  \\\n",
       "0  7129300520  20141013T000000  221900.0         3       1.00         1180   \n",
       "1  6414100192  20141209T000000  538000.0         3       2.25         2570   \n",
       "2  5631500400  20150225T000000  180000.0         2       1.00          770   \n",
       "3  2487200875  20141209T000000  604000.0         4       3.00         1960   \n",
       "4  1954400510  20150218T000000  510000.0         3       2.00         1680   \n",
       "\n",
       "   sqft_lot  floors  waterfront  view  condition  grade  sqft_above  \\\n",
       "0      5650     1.0           0     0          3      7        1180   \n",
       "1      7242     2.0           0     0          3      7        2170   \n",
       "2     10000     1.0           0     0          3      6         770   \n",
       "3      5000     1.0           0     0          5      7        1050   \n",
       "4      8080     1.0           0     0          3      8        1680   \n",
       "\n",
       "   sqft_basement  yr_built  yr_renovated  zipcode      lat     long  \\\n",
       "0              0      1955             0    98178  47.5112 -122.257   \n",
       "1            400      1951          1991    98125  47.7210 -122.319   \n",
       "2              0      1933             0    98028  47.7379 -122.233   \n",
       "3            910      1965             0    98136  47.5208 -122.393   \n",
       "4              0      1987             0    98074  47.6168 -122.045   \n",
       "\n",
       "   sqft_living15  sqft_lot15  \n",
       "0           1340        5650  \n",
       "1           1690        7639  \n",
       "2           2720        8062  \n",
       "3           1360        5000  \n",
       "4           1800        7503  "
      ]
     },
     "execution_count": 3,
     "metadata": {},
     "output_type": "execute_result"
    }
   ],
   "source": [
    "df = pd.read_csv('./data/kc_house_data.csv')\n",
    "df.head(5)"
   ]
  },
  {
   "cell_type": "markdown",
   "id": "b73a222f-fcdc-4339-b684-c91d4aa281a8",
   "metadata": {},
   "source": [
    "| Название признака | Описание |\n",
    "| ---: | :--- |\n",
    "| id | идентификационный номер дома |\n",
    "| date | дата продажи |\n",
    "| price | стоимость |\n",
    "| bedrooms | кол-во спален |\n",
    "| bathrooms | кол-во ванных комнат (0.25 - комната с туалетом, 0.5 - комната с туалетом и раковиной) |\n",
    "| sqft_living | жилая площадь |\n",
    "| sqft_lot | площадь прилегающего участка |\n",
    "| floors | кол-во этажей |\n",
    "| waterfront | вид на набережную |\n",
    "| view | оценка внешнего вида |\n",
    "| condition | оценка состояния |\n",
    "| grade | оценка качества строительства и дизайна здания |\n",
    "| sqft_above | площадь наземной части |\n",
    "| sqft_basement | площадь подземной части |\n",
    "| yr_built | год строительства дома |\n",
    "| yr_renovated | год последнего ремонта или реконструкции |\n",
    "| zipcode | почтовый индекс |\n",
    "| lat | широта |\n",
    "| long | долгота |"
   ]
  },
  {
   "cell_type": "code",
   "execution_count": 4,
   "id": "407035dc-992b-4dd5-8b37-79567a764eae",
   "metadata": {},
   "outputs": [
    {
     "name": "stdout",
     "output_type": "stream",
     "text": [
      "<class 'pandas.core.frame.DataFrame'>\n",
      "RangeIndex: 21613 entries, 0 to 21612\n",
      "Data columns (total 21 columns):\n",
      " #   Column         Non-Null Count  Dtype  \n",
      "---  ------         --------------  -----  \n",
      " 0   id             21613 non-null  int64  \n",
      " 1   date           21613 non-null  object \n",
      " 2   price          21613 non-null  float64\n",
      " 3   bedrooms       21613 non-null  int64  \n",
      " 4   bathrooms      21613 non-null  float64\n",
      " 5   sqft_living    21613 non-null  int64  \n",
      " 6   sqft_lot       21613 non-null  int64  \n",
      " 7   floors         21613 non-null  float64\n",
      " 8   waterfront     21613 non-null  int64  \n",
      " 9   view           21613 non-null  int64  \n",
      " 10  condition      21613 non-null  int64  \n",
      " 11  grade          21613 non-null  int64  \n",
      " 12  sqft_above     21613 non-null  int64  \n",
      " 13  sqft_basement  21613 non-null  int64  \n",
      " 14  yr_built       21613 non-null  int64  \n",
      " 15  yr_renovated   21613 non-null  int64  \n",
      " 16  zipcode        21613 non-null  int64  \n",
      " 17  lat            21613 non-null  float64\n",
      " 18  long           21613 non-null  float64\n",
      " 19  sqft_living15  21613 non-null  int64  \n",
      " 20  sqft_lot15     21613 non-null  int64  \n",
      "dtypes: float64(5), int64(15), object(1)\n",
      "memory usage: 3.5+ MB\n"
     ]
    }
   ],
   "source": [
    "df.info()"
   ]
  },
  {
   "cell_type": "code",
   "execution_count": 5,
   "id": "ffd2a92d-2105-484a-ba19-a789021beff0",
   "metadata": {},
   "outputs": [],
   "source": [
    "df['date']= pd.to_datetime(df['date'], format='%Y%m%dT%H%M%S')"
   ]
  },
  {
   "cell_type": "code",
   "execution_count": 6,
   "id": "ae0cfa3c-a99e-475a-8344-989b72e2508c",
   "metadata": {},
   "outputs": [],
   "source": [
    "df['price'] = df['price']/1_000"
   ]
  },
  {
   "cell_type": "markdown",
   "id": "624fdc07-655a-401c-b212-b83287ce5bfe",
   "metadata": {},
   "source": [
    "## <font color = DarkGreen size = 5> <b>Генеральная и выборочная совокупности</b> </font>\n",
    "\n",
    "<u>**Генеральная совокупность**</u> — это множество, которое содержит данные обо всех объектах, соответствующих определенным характеристикам.\n",
    "\n",
    "<u>**Выборка**</u> — это случайным образом выбранная часть генеральной совокупности.\n",
    "\n",
    "<u>**Репрезентативная выборка**</u> — часть генеральной совокупности, являющаяся моделью генеральной совокупности и отражющая свойства генеральной совокупности."
   ]
  },
  {
   "cell_type": "markdown",
   "id": "5ce56e33-2f48-42bc-809c-013b8e3d67a8",
   "metadata": {},
   "source": [
    "## <font color = DarkGreen size = 5> <b>Точечные оценки параметров распределения</b> </font>"
   ]
  },
  {
   "cell_type": "markdown",
   "id": "661a1e3f-6697-434c-bf0f-f5939cd53f57",
   "metadata": {},
   "source": [
    "### <font color = MediumBlue size = 5> <b>Частотные таблицы и гистограммы</b> </font>"
   ]
  },
  {
   "cell_type": "markdown",
   "id": "24d7a9f1-24a1-4e53-a1c5-a4499acd07ef",
   "metadata": {},
   "source": [
    "#### <font color = SteelBlue size = 4> <b>Частотная таблица</b> </font>\n",
    "\n",
    "<u>**Частотная таблица**</u> переменной делит диапазон переменной на равноотстоящие сегменты и сообщает о том, сколько значений попадает в каждый сегмент."
   ]
  },
  {
   "cell_type": "code",
   "execution_count": 7,
   "id": "378499cf-e397-4354-b1bf-d77ba54524d9",
   "metadata": {},
   "outputs": [
    {
     "data": {
      "text/plain": [
       "price\n",
       "(67.375, 456.25]     11041\n",
       "(456.25, 837.5]       7981\n",
       "(837.5, 1218.75]      1638\n",
       "(1218.75, 1600.0]      527\n",
       "(1600.0, 1981.25]      215\n",
       "(1981.25, 2362.5]       83\n",
       "(2362.5, 2743.75]       57\n",
       "(2743.75, 3125.0]       33\n",
       "(3125.0, 3506.25]       16\n",
       "(3506.25, 3887.5]       10\n",
       "(5031.25, 5412.5]        3\n",
       "(3887.5, 4268.75]        2\n",
       "(4268.75, 4650.0]        2\n",
       "(4650.0, 5031.25]        1\n",
       "(5412.5, 5793.75]        1\n",
       "(6556.25, 6937.5]        1\n",
       "(6937.5, 7318.75]        1\n",
       "(7318.75, 7700.0]        1\n",
       "(5793.75, 6175.0]        0\n",
       "(6175.0, 6556.25]        0\n",
       "Name: count, dtype: int64"
      ]
     },
     "execution_count": 7,
     "metadata": {},
     "output_type": "execute_result"
    }
   ],
   "source": [
    "pd.cut(df['price'], 20).value_counts()"
   ]
  },
  {
   "cell_type": "markdown",
   "id": "9edcad95-5c52-4ca4-a599-b3f06b8ffd13",
   "metadata": {},
   "source": [
    "#### <font color = SteelBlue size = 4> <b>Гистограмма частот / Распределение частот</b> </font>\n",
    "\n",
    "<u>**Гистограмма частот**</u> представляет в графической форме число случаев появления каждого значения измеренной характеристики (признака) в каждом выбранном диапазоне ее значений. Рапредление частот позволяет быстро сделать выводы о степени подробности результатов измерений."
   ]
  },
  {
   "cell_type": "code",
   "execution_count": 8,
   "id": "8ee4055b-b1f3-4e9d-8bfe-991eb07ff8aa",
   "metadata": {},
   "outputs": [
    {
     "data": {
      "image/png": "[encoded data removed]",
      "text/plain": [
       "<Figure size 1500x400 with 1 Axes>"
      ]
     },
     "metadata": {},
     "output_type": "display_data"
    }
   ],
   "source": [
    "plt.figure(figsize=(15,4))\n",
    "plt.hist(df['price'], bins=200, color = 'lightblue')\n",
    "plt.xlabel('price')\n",
    "plt.ylabel('count');"
   ]
  },
  {
   "cell_type": "code",
   "execution_count": 9,
   "id": "f994ee8a-cd99-480b-bcc2-dedb637e48bb",
   "metadata": {},
   "outputs": [
    {
     "data": {
      "image/png": "[encoded data removed]",
      "text/plain": [
       "<Figure size 1500x400 with 1 Axes>"
      ]
     },
     "metadata": {},
     "output_type": "display_data"
    }
   ],
   "source": [
    "plt.figure(figsize=(15, 4))\n",
    "sns.histplot(data=df, x='price', bins=200); # ,binwidth=50"
   ]
  },
  {
   "cell_type": "code",
   "execution_count": 10,
   "id": "c18bf496-c137-48df-b0a7-8ae12dc3be30",
   "metadata": {},
   "outputs": [
    {
     "data": {
      "image/png": "[encoded data removed]",
      "text/plain": [
       "<Figure size 1500x400 with 1 Axes>"
      ]
     },
     "metadata": {},
     "output_type": "display_data"
    }
   ],
   "source": [
    "ax = (df['price']).plot.hist(figsize=(15, 4), bins=200)"
   ]
  },
  {
   "cell_type": "markdown",
   "id": "a5014fe4-98e2-4ad4-a6f6-7bbee02d1701",
   "metadata": {},
   "source": [
    "С гистограммой связан **график плотности**, который показывает распределение значений данных в форме сплошной линии.\\\n",
    "График плотности можно рассматривать как сглаженную гистограмму."
   ]
  },
  {
   "cell_type": "code",
   "execution_count": 11,
   "id": "6b66abb8-4f32-4412-941c-4f81414ba4cb",
   "metadata": {},
   "outputs": [
    {
     "data": {
      "image/png": "[encoded data removed]",
      "text/plain": [
       "<Figure size 1500x400 with 1 Axes>"
      ]
     },
     "metadata": {},
     "output_type": "display_data"
    }
   ],
   "source": [
    "plt.figure(figsize=(15, 4))\n",
    "sns.histplot(data=df, x='price', bins=200, kde=True);"
   ]
  },
  {
   "cell_type": "code",
   "execution_count": 12,
   "id": "69218f4e-3b8e-4399-a70a-5f21cf74914f",
   "metadata": {},
   "outputs": [
    {
     "data": {
      "image/png": "[encoded data removed]",
      "text/plain": [
       "<Figure size 1500x400 with 1 Axes>"
      ]
     },
     "metadata": {},
     "output_type": "display_data"
    }
   ],
   "source": [
    "ax = df['price'].plot.hist(figsize=(15, 4), density=True, xlim=[0,8000], bins=200)\n",
    "df['price'].plot.density(ax=ax);"
   ]
  },
  {
   "cell_type": "markdown",
   "id": "8f166479-5e11-401f-b84b-546a271a5cae",
   "metadata": {},
   "source": [
    "Ключевое отличие от гистограммы состоит в шкале оси $y$ график плотности соответствует отображению гистограммы как доли, а не количества.\\\n",
    "Общая площадь под кривой плотности равна $1$, и вместо количества в диапазоне вычисляется площадь под кривой между любыми двумя точками на оси $x$, которые соответствуют доли распределения, лежащей между этими двумя точками."
   ]
  },
  {
   "cell_type": "markdown",
   "id": "84713305-ac76-424b-838f-cde6faeca760",
   "metadata": {},
   "source": [
    "### <font color = MediumBlue size = 5> <b>Меры центральной тенденции</b> </font>"
   ]
  },
  {
   "cell_type": "markdown",
   "id": "a606f0e3-bbf1-464b-b9f6-c73fc0035ed1",
   "metadata": {},
   "source": [
    "#### <font color = SteelBlue size = 4> <b>Мода</b> </font>\n",
    "\n",
    "<u>**Мода**</u> – наиболее часто встречающееся в выборке значение.\n",
    "\n",
    "Мода $M_0$ дискретного вариационного ряда – это варианта с максимальной частотой.\n",
    "\n",
    "Для интервального вариационного ряда нужно найти <u>**модальный интервал**</u>, т.е. с максимальной частотой."
   ]
  },
  {
   "cell_type": "code",
   "execution_count": 13,
   "id": "76814dea-4c94-4d35-bdcc-02347a03fc8e",
   "metadata": {},
   "outputs": [
    {
     "data": {
      "text/plain": [
       "ModeResult(mode=350.0, count=172)"
      ]
     },
     "execution_count": 13,
     "metadata": {},
     "output_type": "execute_result"
    }
   ],
   "source": [
    "modes = stats.mode(df['price'])\n",
    "modes"
   ]
  },
  {
   "cell_type": "code",
   "execution_count": 14,
   "id": "b13770f2-d9c3-4cd7-8fe7-40cb765ed28f",
   "metadata": {},
   "outputs": [
    {
     "data": {
      "text/plain": [
       "350.0"
      ]
     },
     "execution_count": 14,
     "metadata": {},
     "output_type": "execute_result"
    }
   ],
   "source": [
    "modes[0]"
   ]
  },
  {
   "cell_type": "code",
   "execution_count": 15,
   "id": "c2c40a35-3d1d-4f77-a33a-39e785d77805",
   "metadata": {},
   "outputs": [
    {
     "data": {
      "text/plain": [
       "(350.0, 172)"
      ]
     },
     "execution_count": 15,
     "metadata": {},
     "output_type": "execute_result"
    }
   ],
   "source": [
    "mode, cnt = modes\n",
    "mode, cnt"
   ]
  },
  {
   "cell_type": "code",
   "execution_count": 16,
   "id": "b1ac1e09-711a-48ab-a78a-b588efc0b3dd",
   "metadata": {},
   "outputs": [
    {
     "data": {
      "image/png": "[encoded data removed]",
      "text/plain": [
       "<Figure size 1500x400 with 1 Axes>"
      ]
     },
     "metadata": {},
     "output_type": "display_data"
    }
   ],
   "source": [
    "fig, ax = plt.subplots(figsize=(15, 4))\n",
    "\n",
    "ax.hist(df['price'], bins=200, color = 'lightblue')\n",
    "ax.axvline(x=mode, color='blue', lw=2)\n",
    "ax.set_xlabel('year built')\n",
    "ax.set_ylabel('count');"
   ]
  },
  {
   "cell_type": "markdown",
   "id": "195286f4-8250-4dbb-b616-a5101eb4fb13",
   "metadata": {},
   "source": [
    "#### <font color = SteelBlue size = 4> <b>Медиана</b> </font>\n",
    "\n",
    "<u>**Медиана**</u> $m_e$ вариационного ряда – это значение, которая делит его на две равные части (по количеству вариант).\n",
    ">не важно, дискретного или интервального, генеральной совокупности или выборочной.\n",
    "\n",
    "<br>\n",
    "\n",
    "Для **дискретного** вариационного ряда:\n",
    "- для нечетной выборки: $\\displaystyle m_e = N_{\\left[\\frac{n+1}{2}\\right]}$\n",
    "\n",
    "- для четной выборки: \n",
    "$\\displaystyle m_e = \\frac{N_{\\left[\\frac{n}{2}\\right]} + \n",
    "       N_{\\left[\\frac{n}{2}+1\\right]}}{2}$\n",
    "\n",
    "<br>\n",
    "\n",
    "Для **интервального** вариационного ряда:\n",
    "\n",
    "<u>**медианный интервал**</u> – это интервал, содержащий варианту (либо 2 варианты), которая делит вариационный ряд на две равные части. \n",
    "\n",
    "$\\displaystyle m_e = x_0 + \\frac{0.5n-n_{m-1}^{n}}{n_m}h$, где \\\n",
    "$n$ — объём статистической совокупности \\\n",
    "$x_0$ — нижняя граница медианного интервала \\\n",
    "$h$ — длина медианного интервала \\\n",
    "$n_m$ — частота медианного интервала \\\n",
    "$n_{m-1}^{n}$ — накопленная частота предыдущего интервала"
   ]
  },
  {
   "cell_type": "code",
   "execution_count": 17,
   "id": "bbdc48d0-47b0-4303-b8c4-29197314e0f5",
   "metadata": {},
   "outputs": [
    {
     "data": {
      "text/plain": [
       "450.0"
      ]
     },
     "execution_count": 17,
     "metadata": {},
     "output_type": "execute_result"
    }
   ],
   "source": [
    "me = np.median(df['price'])\n",
    "me"
   ]
  },
  {
   "cell_type": "code",
   "execution_count": 18,
   "id": "ae40c698-e328-4d9a-bd43-99eb2863e6d4",
   "metadata": {},
   "outputs": [
    {
     "data": {
      "image/png": "[encoded data removed]",
      "text/plain": [
       "<Figure size 1500x400 with 1 Axes>"
      ]
     },
     "metadata": {},
     "output_type": "display_data"
    }
   ],
   "source": [
    "fig, ax = plt.subplots(figsize=(15, 4))\n",
    "\n",
    "ax.hist(df['price'], bins=200, color = 'lightblue')\n",
    "ax.axvline(x=mode, color='blue', lw=2)\n",
    "plt.axvline(x=me, color='red', ls='--', lw=2)\n",
    "ax.set_xlabel('price')\n",
    "ax.set_ylabel('count');"
   ]
  },
  {
   "cell_type": "code",
   "execution_count": 19,
   "id": "de0ce408-7add-4689-a82d-a3d1f7300ada",
   "metadata": {},
   "outputs": [
    {
     "data": {
      "text/plain": [
       "450.0"
      ]
     },
     "execution_count": 19,
     "metadata": {},
     "output_type": "execute_result"
    }
   ],
   "source": [
    "df['price'].median()"
   ]
  },
  {
   "cell_type": "markdown",
   "id": "a1edc9a7-daa3-44ad-a7dc-96b1a29bca32",
   "metadata": {},
   "source": [
    "#### <font color = SteelBlue size = 4> <b>Среднее значение</b> </font>"
   ]
  },
  {
   "cell_type": "markdown",
   "id": "ca1bd18c-a47b-4090-baa3-99f7dbbb1c62",
   "metadata": {},
   "source": [
    "##### <font color = Gray size = 3> <b>Среднее арифметическое</b> </font>\n",
    "\n",
    "<u>**Генеральная средняя**</u> – среднее арифметическое всех значений генеральной совокупности.\n",
    "\n",
    "$\\displaystyle \\bar X = \\frac{\\sum_{i=1}^{N}{x_i}}{N}$\n",
    "\n",
    "Если рассматривать обследуемый признак $X$ генеральной совокупности как случайную величину, то <u>**математическое ожидание**</u>\n",
    "признака равно генеральной средней этого признака: $M(X) = \\bar{X}$.\n",
    "\n",
    "<u>**Выборочная средняя**</u> – сумма значений измеренного признака всех элементов выборки, делённая на количество элементов выборки объема $n$.\n",
    "\n",
    "$\\displaystyle \\bar x = \\frac{\\sum_{i=1}^{n}{x_i}}{n}$\n",
    "\n",
    "Выборочная средняя, найденная по данным одной выборки – это определенное число.\\\n",
    "Если же извлекать другие выборки того же объема из той же генеральной совокупности, то выборочная средняя будет изменяться от выборки к выборке.\\\n",
    "Таким образом, выборочную среднюю можно рассматривать как случайную величину, а следовательно, можно говорить о распределениях (теоретическом и эмпирическом) выборочной средней и о числовых характеристиках этого распределения (его называют выборочным), в частности о математическом ожидании и дисперсии **выборочного распределения**.\n",
    "\n",
    "При увеличении объема выборки $n$ выборочная средняя стремится по вероятности к генеральной средней, а это и означает, что выборочная средняя есть состоятельная оценка генеральной средней.\\\n",
    "Из сказанного следует также, что если по нескольким выборкам достаточно большого объема из одной и той же генеральной совокупности будут найдены выборочные средние, то они будут приближенно равны между собой.\\\n",
    "В этом и состоит свойство **устойчивости выборочных средних**."
   ]
  },
  {
   "cell_type": "code",
   "execution_count": 20,
   "id": "c82f7069-c20e-467e-9980-06a1a8590af2",
   "metadata": {},
   "outputs": [
    {
     "data": {
      "text/plain": [
       "540.0881417665294"
      ]
     },
     "execution_count": 20,
     "metadata": {},
     "output_type": "execute_result"
    }
   ],
   "source": [
    "Mx = np.mean(df['price'])\n",
    "Mx"
   ]
  },
  {
   "cell_type": "code",
   "execution_count": 21,
   "id": "ee1ae250-7a91-4180-a29b-95548b7a7f55",
   "metadata": {},
   "outputs": [
    {
     "data": {
      "image/png": "[encoded data removed]",
      "text/plain": [
       "<Figure size 1500x400 with 1 Axes>"
      ]
     },
     "metadata": {},
     "output_type": "display_data"
    }
   ],
   "source": [
    "fig, ax = plt.subplots(figsize=(15, 4))\n",
    "\n",
    "ax.hist(df['price'], bins=200, color = 'lightblue')\n",
    "ax.axvline(x=mode, color='blue', lw=2)\n",
    "plt.axvline(x=me, color='red', ls='--', lw=2)\n",
    "ax.axvline(x=Mx, color='green', lw=2)\n",
    "ax.set_xlabel('price')\n",
    "ax.set_ylabel('count');"
   ]
  },
  {
   "cell_type": "code",
   "execution_count": 22,
   "id": "19282f1b-a25a-4e71-aabb-49bd5d5fe984",
   "metadata": {},
   "outputs": [
    {
     "data": {
      "text/plain": [
       "540.0881417665294"
      ]
     },
     "execution_count": 22,
     "metadata": {},
     "output_type": "execute_result"
    }
   ],
   "source": [
    "df['price'].mean()"
   ]
  },
  {
   "cell_type": "markdown",
   "id": "2b50a894-b107-466a-a0ab-d1e35aff4404",
   "metadata": {},
   "source": [
    "##### <font color = Gray size = 3> <b>Среднее усеченное</b> </font>\n",
    "\n",
    "Разновидностью среднего является <u>**среднее усеченное**</u>, которое вычисляется путем отбрасывания фиксированного числа сортированных значений с каждого конца последовательности и затем взятия среднего арифметического оставшихся значений.\n",
    "\n",
    "Если представить сортированные значения как $x_1, x_2, \\ldots, x_n$, где $x_1$ — это наименьшее значение и $x_n$ — наибольшее, то формула для вычисления усеченного среднего с пропуском $p$ самых малых и самых крупных значений будет следующей:\\\n",
    "$\\bar{x} = \\cfrac{\\displaystyle\\sum_{i=p+1}^{n-p}{x_i}}{n-2p}$\n",
    "\n",
    "Усеченное среднее устраняет влияние предельных значений.\\\n",
    "Усеченные средние получили широкое распространение и во многих случаях являются предпочтительными вместо обычного среднего."
   ]
  },
  {
   "cell_type": "code",
   "execution_count": 23,
   "id": "58cd8d10-fc6a-4956-aa19-f344daaea032",
   "metadata": {},
   "outputs": [
    {
     "name": "stdout",
     "output_type": "stream",
     "text": [
      "\n",
      "Выборочное среднее: 540.0881417665294\n",
      " Среднее усеченное: 481.7040194899081\n",
      "\n"
     ]
    }
   ],
   "source": [
    "print(f\"\"\"\n",
    "Выборочное среднее: {df['price'].mean()}\n",
    " Среднее усеченное: {stats.trim_mean(df['price'], 0.1)}\n",
    "\"\"\")"
   ]
  },
  {
   "cell_type": "markdown",
   "id": "b623028a-6371-4fd0-83ac-63eaf9fc8c5b",
   "metadata": {},
   "source": [
    "##### <font color = Gray size = 3> <b>Среднее взвешенное</b> </font>\n",
    "\n",
    "**Средневзвешенное значение** вычисляется путем умножения каждого значения данных $x_i$ на свой вес $w_i$ и деления их суммы на сумму весов:\\\n",
    "$\\bar{x}_w = \\cfrac{\\displaystyle \\sum_{i=1}^{n}{w_i x_i}}{\\displaystyle \\sum_{i=1}^{n}{w_i}}$\n",
    "\n",
    "\n",
    "Причины для использования средневзвешенного значения:\n",
    "\n",
    "- Некоторые значения внутренне более переменчивы, чем другие, и сильно переменчивым наблюдениям придается более низкий вес.\\\n",
    "    Например, если мы берем среднее арифметическое данных, поступающих от многочисленных датчиков, и один из датчиков менее точен, тогда вес данных от этого датчика можно понизить.\n",
    "\n",
    "- Собранные данные не одинаково представляют разные группы, которые мы заинтересованы измерить.\\\n",
    "    Например, в зависимости от того, каким образом проводится онлайновый эксперимент, у нас может не быть набора данных, который точно отражает все группы в пользовательской базе. Для того чтобы это исправить, можно придать более высокий вес значениям из тех групп, которые были представлены недостаточно."
   ]
  },
  {
   "cell_type": "code",
   "execution_count": 24,
   "id": "6ba05505-1775-4d67-8efb-aa0dfa3c6408",
   "metadata": {},
   "outputs": [
    {
     "data": {
      "text/plain": [
       "(Timestamp('2014-05-02 00:00:00'), Timestamp('2015-05-27 00:00:00'))"
      ]
     },
     "execution_count": 24,
     "metadata": {},
     "output_type": "execute_result"
    }
   ],
   "source": [
    "df['date'].min(), df['date'].max()"
   ]
  },
  {
   "cell_type": "code",
   "execution_count": 25,
   "id": "a3ae7308-7556-4dfc-bead-fe9c46b0913b",
   "metadata": {},
   "outputs": [],
   "source": [
    "df['weight'] = 1 / (np.floor((pd.to_datetime('2015-06-01') - df['date']).dt.days / 30.4375) + 1)"
   ]
  },
  {
   "cell_type": "code",
   "execution_count": 26,
   "id": "12ccaba6-a9c3-4880-895b-44550858659e",
   "metadata": {},
   "outputs": [
    {
     "data": {
      "text/html": [
       "<div>\n",
       "<style scoped>\n",
       "    .dataframe tbody tr th:only-of-type {\n",
       "        vertical-align: middle;\n",
       "    }\n",
       "\n",
       "    .dataframe tbody tr th {\n",
       "        vertical-align: top;\n",
       "    }\n",
       "\n",
       "    .dataframe thead th {\n",
       "        text-align: right;\n",
       "    }\n",
       "</style>\n",
       "<table border=\"1\" class=\"dataframe\">\n",
       "  <thead>\n",
       "    <tr style=\"text-align: right;\">\n",
       "      <th></th>\n",
       "      <th>id</th>\n",
       "      <th>date</th>\n",
       "      <th>price</th>\n",
       "      <th>bedrooms</th>\n",
       "      <th>bathrooms</th>\n",
       "      <th>sqft_living</th>\n",
       "      <th>sqft_lot</th>\n",
       "      <th>floors</th>\n",
       "      <th>waterfront</th>\n",
       "      <th>view</th>\n",
       "      <th>condition</th>\n",
       "      <th>grade</th>\n",
       "      <th>sqft_above</th>\n",
       "      <th>sqft_basement</th>\n",
       "      <th>yr_built</th>\n",
       "      <th>yr_renovated</th>\n",
       "      <th>zipcode</th>\n",
       "      <th>lat</th>\n",
       "      <th>long</th>\n",
       "      <th>sqft_living15</th>\n",
       "      <th>sqft_lot15</th>\n",
       "      <th>weight</th>\n",
       "    </tr>\n",
       "  </thead>\n",
       "  <tbody>\n",
       "    <tr>\n",
       "      <th>20851</th>\n",
       "      <td>8956200070</td>\n",
       "      <td>2014-09-05</td>\n",
       "      <td>447.5</td>\n",
       "      <td>4</td>\n",
       "      <td>2.50</td>\n",
       "      <td>2425</td>\n",
       "      <td>9017</td>\n",
       "      <td>2.0</td>\n",
       "      <td>0</td>\n",
       "      <td>0</td>\n",
       "      <td>3</td>\n",
       "      <td>9</td>\n",
       "      <td>2425</td>\n",
       "      <td>0</td>\n",
       "      <td>2013</td>\n",
       "      <td>0</td>\n",
       "      <td>98001</td>\n",
       "      <td>47.3003</td>\n",
       "      <td>-122.263</td>\n",
       "      <td>2725</td>\n",
       "      <td>7019</td>\n",
       "      <td>0.111111</td>\n",
       "    </tr>\n",
       "    <tr>\n",
       "      <th>13487</th>\n",
       "      <td>7340601063</td>\n",
       "      <td>2014-09-03</td>\n",
       "      <td>295.5</td>\n",
       "      <td>3</td>\n",
       "      <td>1.75</td>\n",
       "      <td>1590</td>\n",
       "      <td>41550</td>\n",
       "      <td>1.5</td>\n",
       "      <td>0</td>\n",
       "      <td>0</td>\n",
       "      <td>3</td>\n",
       "      <td>6</td>\n",
       "      <td>1290</td>\n",
       "      <td>300</td>\n",
       "      <td>1933</td>\n",
       "      <td>1989</td>\n",
       "      <td>98168</td>\n",
       "      <td>47.4817</td>\n",
       "      <td>-122.280</td>\n",
       "      <td>2990</td>\n",
       "      <td>6464</td>\n",
       "      <td>0.111111</td>\n",
       "    </tr>\n",
       "    <tr>\n",
       "      <th>2707</th>\n",
       "      <td>4027701294</td>\n",
       "      <td>2015-01-29</td>\n",
       "      <td>485.0</td>\n",
       "      <td>3</td>\n",
       "      <td>2.75</td>\n",
       "      <td>2650</td>\n",
       "      <td>12350</td>\n",
       "      <td>1.0</td>\n",
       "      <td>0</td>\n",
       "      <td>0</td>\n",
       "      <td>4</td>\n",
       "      <td>7</td>\n",
       "      <td>1470</td>\n",
       "      <td>1180</td>\n",
       "      <td>1975</td>\n",
       "      <td>0</td>\n",
       "      <td>98028</td>\n",
       "      <td>47.7669</td>\n",
       "      <td>-122.268</td>\n",
       "      <td>1950</td>\n",
       "      <td>14075</td>\n",
       "      <td>0.200000</td>\n",
       "    </tr>\n",
       "    <tr>\n",
       "      <th>17751</th>\n",
       "      <td>8651430210</td>\n",
       "      <td>2015-03-21</td>\n",
       "      <td>217.0</td>\n",
       "      <td>3</td>\n",
       "      <td>1.00</td>\n",
       "      <td>870</td>\n",
       "      <td>5200</td>\n",
       "      <td>1.0</td>\n",
       "      <td>0</td>\n",
       "      <td>0</td>\n",
       "      <td>5</td>\n",
       "      <td>6</td>\n",
       "      <td>870</td>\n",
       "      <td>0</td>\n",
       "      <td>1969</td>\n",
       "      <td>0</td>\n",
       "      <td>98042</td>\n",
       "      <td>47.3701</td>\n",
       "      <td>-122.078</td>\n",
       "      <td>1020</td>\n",
       "      <td>5200</td>\n",
       "      <td>0.333333</td>\n",
       "    </tr>\n",
       "    <tr>\n",
       "      <th>9592</th>\n",
       "      <td>3629970620</td>\n",
       "      <td>2014-10-03</td>\n",
       "      <td>476.1</td>\n",
       "      <td>4</td>\n",
       "      <td>2.50</td>\n",
       "      <td>1850</td>\n",
       "      <td>1836</td>\n",
       "      <td>2.0</td>\n",
       "      <td>0</td>\n",
       "      <td>0</td>\n",
       "      <td>3</td>\n",
       "      <td>7</td>\n",
       "      <td>1600</td>\n",
       "      <td>250</td>\n",
       "      <td>2005</td>\n",
       "      <td>0</td>\n",
       "      <td>98029</td>\n",
       "      <td>47.5529</td>\n",
       "      <td>-121.996</td>\n",
       "      <td>1770</td>\n",
       "      <td>2236</td>\n",
       "      <td>0.125000</td>\n",
       "    </tr>\n",
       "  </tbody>\n",
       "</table>\n",
       "</div>"
      ],
      "text/plain": [
       "               id       date  price  bedrooms  bathrooms  sqft_living  \\\n",
       "20851  8956200070 2014-09-05  447.5         4       2.50         2425   \n",
       "13487  7340601063 2014-09-03  295.5         3       1.75         1590   \n",
       "2707   4027701294 2015-01-29  485.0         3       2.75         2650   \n",
       "17751  8651430210 2015-03-21  217.0         3       1.00          870   \n",
       "9592   3629970620 2014-10-03  476.1         4       2.50         1850   \n",
       "\n",
       "       sqft_lot  floors  waterfront  view  condition  grade  sqft_above  \\\n",
       "20851      9017     2.0           0     0          3      9        2425   \n",
       "13487     41550     1.5           0     0          3      6        1290   \n",
       "2707      12350     1.0           0     0          4      7        1470   \n",
       "17751      5200     1.0           0     0          5      6         870   \n",
       "9592       1836     2.0           0     0          3      7        1600   \n",
       "\n",
       "       sqft_basement  yr_built  yr_renovated  zipcode      lat     long  \\\n",
       "20851              0      2013             0    98001  47.3003 -122.263   \n",
       "13487            300      1933          1989    98168  47.4817 -122.280   \n",
       "2707            1180      1975             0    98028  47.7669 -122.268   \n",
       "17751              0      1969             0    98042  47.3701 -122.078   \n",
       "9592             250      2005             0    98029  47.5529 -121.996   \n",
       "\n",
       "       sqft_living15  sqft_lot15    weight  \n",
       "20851           2725        7019  0.111111  \n",
       "13487           2990        6464  0.111111  \n",
       "2707            1950       14075  0.200000  \n",
       "17751           1020        5200  0.333333  \n",
       "9592            1770        2236  0.125000  "
      ]
     },
     "execution_count": 26,
     "metadata": {},
     "output_type": "execute_result"
    }
   ],
   "source": [
    "df.sample(5)"
   ]
  },
  {
   "cell_type": "code",
   "execution_count": 27,
   "id": "3a20659b-3fce-438b-bc1d-20454bb3a32d",
   "metadata": {},
   "outputs": [
    {
     "name": "stdout",
     "output_type": "stream",
     "text": [
      "\n",
      "Математическое ожидание: 540.0881417665294\n",
      "     Среднее взвешенное: 543.9720180052584\n",
      "\n"
     ]
    }
   ],
   "source": [
    "print(f\"\"\"\n",
    "Математическое ожидание: {df['price'].mean()}\n",
    "     Среднее взвешенное: {np.average(df['price'], weights=df['weight'])}\n",
    "\"\"\")"
   ]
  },
  {
   "cell_type": "markdown",
   "id": "285fc725-02b9-47ef-9490-41c2f228dc60",
   "metadata": {},
   "source": [
    "### <font color = MediumBlue size = 5> <b>Меры изменчивости / показатели вариации</b> </font>"
   ]
  },
  {
   "cell_type": "markdown",
   "id": "60defc02-6a61-4e3a-93db-2758d885bc27",
   "metadata": {},
   "source": [
    "#### <font color = SteelBlue size = 4> <b>Размах вариации (range)</b> </font>\n",
    "\n",
    "<u>**Размах вариации**</u> — абсолюная разность между максимальным и минимальным значениями измеренного признака.\n",
    "\n",
    "$R = X_{max} - X_{min}$"
   ]
  },
  {
   "cell_type": "code",
   "execution_count": 28,
   "id": "bc7c2772-99c6-4766-b8d5-62b8a22efbca",
   "metadata": {},
   "outputs": [
    {
     "data": {
      "text/plain": [
       "7625.0"
      ]
     },
     "execution_count": 28,
     "metadata": {},
     "output_type": "execute_result"
    }
   ],
   "source": [
    "R = np.max(df['price']) - np.min(df['price'])\n",
    "R"
   ]
  },
  {
   "cell_type": "markdown",
   "id": "526cba59-59cd-416b-aafb-a2737cac4954",
   "metadata": {},
   "source": [
    "#### <font color = SteelBlue size = 4> <b>Дисперсия (variance)</b> </font>\n",
    "\n",
    "<u>**Дисперсия**</u> — средний квадрат отклонений индивидуальных значений признака от их средней величины.\n",
    "\n",
    "Характеризует степень рассеянности значений случайной величины относительно ее математического ожидания."
   ]
  },
  {
   "cell_type": "markdown",
   "id": "fcdfac64-3ca4-4bdb-bda9-361323693d03",
   "metadata": {},
   "source": [
    "##### <font color = Gray size = 3> <b>Генеральная дисперсия</b> </font>\n",
    "\n",
    "<u>**Генеральная дисперсия**</u> $\\sigma^2$ — среднее арифметическое квадратов отклонений значений признака генеральной совокупности от их среднего значения $\\bar{X}$.\n",
    "\n",
    "Если все значения $x_1,x_2,\\ldots,x_N$ признака генеральной совокупности объема $N$ различны: \\\n",
    "$\\displaystyle \\sigma^2 = \\frac{\\displaystyle \\sum_{i=1}^{N}{(x_i-\\bar{X})^2}}{N}$\n",
    "\n",
    "Если значения признака $x_1,x_2,\\ldots,x_k$ имеют соответственно частоты $N_1,N_2,\\ldots,N_k$ причем\n",
    "$\\displaystyle \\sum_{i=1}^{k}{N_k}=N$: \\\n",
    "$\\displaystyle \\sigma^2 = \\frac{\\displaystyle \\sum_{i=1}^{k}{N_i(x_i-\\bar{X})^2}}{N}$\n",
    "\n",
    "."
   ]
  },
  {
   "cell_type": "markdown",
   "id": "09ba545f-b5ce-4069-8fd7-09b712ba9256",
   "metadata": {},
   "source": [
    "##### <font color = Gray size = 3> <b>Выборочная дисперсия</b> </font>\n",
    "\n",
    "<u>**Выборочная дисперсия**</u> $D$ — среднее арифметическое квадратов отклонения наблюдаемых значений признака от среднего выборочного $\\bar{x}$.\n",
    "\n",
    "**Смещенная дисперсия** (для больших выборок)\n",
    "\n",
    "Если все значения $x_1,x_2,\\ldots,x_n$ признака выборки объема $n$ различны: \\\n",
    "$\\displaystyle D = \\frac{\\displaystyle \\sum_{i=1}^{n}{(x_i-\\bar{x})^2}}{n}$\n",
    "\n",
    "Если значения признака $x_1,x_2,\\ldots,x_k$ имеют соответственно частоты $n_1,n_2,\\ldots,n_k$ причем\n",
    "$\\displaystyle \\sum_{i=1}^{k}{n_k}=n$: \\\n",
    "$\\displaystyle D = \\frac{\\displaystyle \\sum_{i=1}^{k}{n_i(x_i-\\bar{x})^2}}{n}$\n",
    "\n",
    "**Несмещенная дисперсия** (для малых выборок $n<100$)\n",
    "\n",
    "Если все значения $x_1,x_2,\\ldots,x_n$ признака выборки объема $n$ различны:\\\n",
    "$\\displaystyle S^2 = \\frac{\\displaystyle \\sum_{i=1}^{n}{(x_i-\\bar{x})^2}}{n-1}$\n",
    "\n",
    "Если значения признака $x_1,x_2,\\ldots,x_k$ имеют соответственно частоты $n_1,n_2,\\ldots,n_k$ причем\n",
    "$\\displaystyle \\sum_{i=1}^{k}{n_k}=n$: \\\n",
    "$\\displaystyle S^2 = \\frac{\\displaystyle \\sum_{i=1}^{k}{n_i(x_i-\\bar{x})^2}}{n-1}$\n",
    "\n",
    "В качестве оценки генеральной дисперсии принимают несмещенную дисперсию."
   ]
  },
  {
   "cell_type": "markdown",
   "id": "1c325ab4-f995-41aa-8678-e9bcf7c2e8cb",
   "metadata": {},
   "source": [
    "Дисперсия меняет свое значение от выборки к выборке.\\\n",
    "Дисперсия рассчитывается от средней величины, а она в свою очередь, тоже рассчитывается по выборке, то есть является ошибочной.\n",
    "\n",
    "Если бы мы знали истинную среднюю величину (по генеральной совокупности), то ошибка дисперсии была бы связана только с нерепрезентативностью, то есть с тем, что данные в выборке оказались бы ближе или дальше от средней, чем в целом по генеральной совокупности.\\\n",
    "При этом при многократном повторении данные стремились бы к своему реальному расположению относительно средней.\n",
    "\n",
    "Выборочный показатель, который при многократном повторении выборки стремится к своему теоретическому значению, называется **несмещенной оценкой**.\\\n",
    "Оценкой, потому что мы не знаем реальное значение показателя (по генеральной совокупности), и с помощью выборочного наблюдения пытаемся его оценить.\\\n",
    "**Оценка показателя** – это есть его характеристика, рассчитанная по выборке.\n",
    "\n",
    "**Выборочная средняя** – это несмещенная оценка математического ожидания, так как средняя из выборочных средних стремится к своему теоретическому значению по генеральной совокупности.\\\n",
    "Она расположена в центре выборки.\\\n",
    "Раз выборочная средняя находится в центре выборки, то из этого следует, что сумма квадратов расстояний от каждого значения выборки до выборочной средней всегда меньше, чем до любой другой точки, в том числе и до генеральной средней.\\\n",
    "А раз так, то дисперсия в каждой выборке будет занижена.\\\n",
    "Средняя из заниженных дисперсий также даст заниженное значение.\\\n",
    "То есть при многократном повторении эксперимента выборочная дисперсия не будет стремиться к своему истинному значению (как выборочная средняя), а будет смещена относительно истинного значения по генеральной совокупности.\n",
    "\n",
    "<img src=\"./img/var-5-01.png\" width=\"600\"/>"
   ]
  },
  {
   "cell_type": "code",
   "execution_count": 29,
   "id": "888f327d-5aee-43bb-a3ee-1718334deacc",
   "metadata": {},
   "outputs": [
    {
     "name": "stdout",
     "output_type": "stream",
     "text": [
      "D = 134_776.14\n",
      "D = 134_782.38\n",
      "\n"
     ]
    }
   ],
   "source": [
    "# смещенная дисперсия\n",
    "d = np.var(df['price'], ddof=0)\n",
    "print(f'D = {d:_.2f}')\n",
    "\n",
    "# несмещенная дисперсия\n",
    "d = np.var(df['price'], ddof=1)\n",
    "print(f'D = {d:_.2f}\\n')"
   ]
  },
  {
   "cell_type": "code",
   "execution_count": 30,
   "id": "1707ba5f-258f-4818-b656-e84d0d707890",
   "metadata": {},
   "outputs": [
    {
     "name": "stdout",
     "output_type": "stream",
     "text": [
      "D = 129_058.67\n",
      "D = 130_362.29\n",
      "\n"
     ]
    }
   ],
   "source": [
    "# смещенная дисперсия\n",
    "d = np.var(df['price'].sample(100, random_state=14), ddof=0)\n",
    "print(f'D = {d:_.2f}')\n",
    "\n",
    "# несмещенная дисперсия\n",
    "d = np.var(df['price'].sample(100, random_state=14), ddof=1)\n",
    "print(f'D = {d:_.2f}\\n')"
   ]
  },
  {
   "cell_type": "markdown",
   "id": "b86034da-7a2f-43bb-a5db-0bb29d7bc3cd",
   "metadata": {},
   "source": [
    "#### <font color = SteelBlue size = 4> <b>Среднее квадратическое отклонение / стандартное отклонение (standard deviation)</b> </font>\n",
    "\n",
    "<u>**Среднее квадратическое отклонение**</u> — обобщающая статистическая характеристика вариации значений признака.\n",
    "\n",
    "Показывает, насколько далеко наблюдения могут быть \"разбросаны\" относительно их среднего значения.\\\n",
    "Если эта мера мала, то кривая распределения имеет узкую, сжатую форму — результаты измерений обладают высокой степенью схожести.\\\n",
    "Если мера велика, то кривая рапределения имеет широкий, растянутый вид — велика степень различия оценок.\n",
    "\n",
    "<br>\n",
    "\n",
    "<u>**Генеральное среднее квадратическое (стандартое) отклонение**</u> — квадратный корень из генеральной дисперсии:\\\n",
    "$\\displaystyle \\sigma = \\sqrt{\\sigma^2}$\n",
    "\n",
    "<br>\n",
    "\n",
    "<u>**Выборочное среднее квадратическое (стандартое) отклонение**</u> — квадратный корень из выборочной дисперсии:\\\n",
    "$\\displaystyle S = \\sqrt{S^2}$"
   ]
  },
  {
   "cell_type": "code",
   "execution_count": 31,
   "id": "ac7bdb29-e486-4efe-ba4d-72643b39f8f4",
   "metadata": {},
   "outputs": [
    {
     "name": "stdout",
     "output_type": "stream",
     "text": [
      "SD = 367.1187\n",
      "SD = 367.1272\n"
     ]
    }
   ],
   "source": [
    "# смещенное стандартное отклонение\n",
    "sig = np.std(df['price'], ddof=0)\n",
    "print(f'SD = {sig:.4f}')\n",
    "\n",
    "# несмещенное стандартное отклонение\n",
    "s = np.std(df['price'], ddof=1)\n",
    "print(f'SD = {s:.4f}')"
   ]
  },
  {
   "cell_type": "markdown",
   "id": "52e276ef-f803-4c2a-a8c0-a4d5ea5c0cc1",
   "metadata": {},
   "source": [
    "#### <font color = SteelBlue size = 4> <b>Медианное абсолютное отклонение от медианы</b> </font>\n",
    "\n",
    "Робастной оценкой вариабельности является <u>**медианное абсолютное отклонение от медианы**</u> (median absolute deviation, MAD) =\\\n",
    "медиана($|x_1 - m_e|, |x_2 - m_e|, \\ldots, |x_n - m_e|$), где $m_e$ - медиана.\n",
    "\n",
    "Как и в случае с медианой, медианное абсолютное отклонение от медианы не находится под влиянием предельных значений.\n",
    "\n",
    "> Под робастностью в статистике понимают нечувствительность к различным отклонениям и неоднородностям в выборке, связанным с теми или иными, в общем случае неизвестными, причинами."
   ]
  },
  {
   "cell_type": "code",
   "execution_count": 32,
   "id": "e0abd07d-5966-4419-ac3d-5475bd7b394e",
   "metadata": {},
   "outputs": [
    {
     "data": {
      "text/plain": [
       "(367.12719648270047, 222.39033277584028)"
      ]
     },
     "execution_count": 32,
     "metadata": {},
     "output_type": "execute_result"
    }
   ],
   "source": [
    "df['price'].std(), robust.scale.mad(df['price'])"
   ]
  },
  {
   "cell_type": "markdown",
   "id": "6094d7e2-46f5-4bea-af7c-28580c1758b0",
   "metadata": {},
   "source": [
    "#### <font color = SteelBlue size = 4> <b>Коэффициент вариации</b> </font>\n",
    "\n",
    "<u>**Коэффициент вариации**</u> – это отношение стандартного отклонения к средней, выраженное в процентах:\\\n",
    "$\\displaystyle V = \\frac{\\sigma}{\\bar{x}}\\cdot100\\%$\n",
    "\n",
    "В статистике существует следующий эмпирический ориентир:\n",
    "\n",
    "-  если показатель вариации составляет примерно 30% и меньше, то статистическая совокупность считается **однородной**. Это означает, что большинство вариант находится недалеко от средней, и найденное значение $\\bar{x}$ хорошо характеризует центральную тенденцию совокупности.\n",
    "\n",
    "- если показатель вариации составляет существенно больше 30%, то совокупность **неоднородна**, то есть, значительное количество вариант находятся далеко от $\\bar{x}$, и выборочная средняя плохо характеризует типичную варианту. В таких случаях целесообразно рассмотреть **квартили, децили,** а иногда и **перцентили**, которые делят вариационный ряд на части, и для каждого участка рассчитать свои показатели."
   ]
  },
  {
   "cell_type": "code",
   "execution_count": 33,
   "id": "36139842-4323-46c1-b1d6-f9d78995e7a6",
   "metadata": {},
   "outputs": [
    {
     "name": "stdout",
     "output_type": "stream",
     "text": [
      "V = 68.0\n"
     ]
    }
   ],
   "source": [
    "SD = np.std(df['price'], ddof=0)\n",
    "Mx = np.mean(df['price'])\n",
    "print(f'V = {SD/Mx*100:.1f}')"
   ]
  },
  {
   "cell_type": "markdown",
   "id": "1415995d-dcc0-40a0-928e-609bdcc3c076",
   "metadata": {},
   "source": [
    "#### <font color = SteelBlue size = 4> <b>Асимметрия</b> </font>\n",
    "\n",
    "<u>**Асимметрия**</u> – мера отклонения эмпирического распределения частот от симметричного распределения относительно максимальной ординаты.\n",
    "\n",
    "Количественная мера скошенности симметричного распределения, т.е. некоторой плавности или крутости боковой части кривой распределения.\n",
    "\n",
    "**Формула Пирсона**: $\\displaystyle A_s = \\frac{\\bar{X}-M_0}{\\sigma}$, где $M_0$ - мода\n",
    "\n",
    "В левостороннем случае коэффициент асимметрии отрицателен $\\bar{X}<M_0$, а в правостороннем – положителен $\\bar{X}>M_0$.\\\n",
    "Чем больше $A_s$ по модулю – тем сильнее скос распределения.\n",
    "\n",
    "> Недостаток формулы Пирсона состоит в том, что она описывает лишь центральную часть распределения и практически не учитывает «периферию».\n",
    "\n",
    "<br>\n",
    "\n",
    "Для **выборочной совокупности** объёма $n$: \\\n",
    "$\\displaystyle A_s = \\frac{m_3}{\\sigma^{3}_{e}}$, где \\\n",
    "$\\sigma^{3}_{e}$ – куб стандартного выборочного отклонения \\\n",
    "$m_3$ – центральный эмпирический момент третьего порядка: $\\displaystyle m_3 = \\frac{\\displaystyle \\sum^{n}_{i=1}{(x_i-\\bar{x})^3}}{n}$\n",
    "\n",
    "Если $A_s>0$, то распределение скошено вправо, если $A_s<0$ – то влево.\n",
    "\n",
    "При этом принята следующая условная градация:\n",
    "* если $|A_s|<0.25$, то асимметрия незначительна\n",
    "* если $0.25<|A_s|<0.5$, то асимметрия умеренная\n",
    "* если $|A_s|>0.5$, то асимметрия существенная\n",
    "\n",
    "Чем **меньше** $|A_s|$, тем рассматриваемое эмпирическое распределение **ближе** к нормальному распределению."
   ]
  },
  {
   "cell_type": "code",
   "execution_count": 34,
   "id": "afd68b27-cc00-40fd-8596-3313ca98df52",
   "metadata": {},
   "outputs": [
    {
     "data": {
      "text/plain": [
       "4.024069144684714"
      ]
     },
     "execution_count": 34,
     "metadata": {},
     "output_type": "execute_result"
    }
   ],
   "source": [
    "df['price'].skew()"
   ]
  },
  {
   "cell_type": "code",
   "execution_count": 35,
   "id": "b06cc17a-8dbb-47ba-bf10-70ac6097df6e",
   "metadata": {},
   "outputs": [
    {
     "data": {
      "text/plain": [
       "(350.0, 172)"
      ]
     },
     "execution_count": 35,
     "metadata": {},
     "output_type": "execute_result"
    }
   ],
   "source": [
    "Mo, cnt = stats.mode(df['price'])\n",
    "Mo, cnt"
   ]
  },
  {
   "cell_type": "code",
   "execution_count": 36,
   "id": "7b5c057d-943e-4103-b081-0d0c7b4874bd",
   "metadata": {},
   "outputs": [
    {
     "data": {
      "text/plain": [
       "540.0881417665294"
      ]
     },
     "execution_count": 36,
     "metadata": {},
     "output_type": "execute_result"
    }
   ],
   "source": [
    "Mx = df['price'].mean()\n",
    "Mx"
   ]
  },
  {
   "cell_type": "code",
   "execution_count": 37,
   "id": "03e9bd68-becd-43eb-8e56-91a8d23334e9",
   "metadata": {},
   "outputs": [
    {
     "data": {
      "image/png": "[encoded data removed]",
      "text/plain": [
       "<Figure size 1500x400 with 1 Axes>"
      ]
     },
     "metadata": {},
     "output_type": "display_data"
    }
   ],
   "source": [
    "plt.figure(figsize=(15, 4))\n",
    "sns.histplot(data=df, x='price', binwidth=50, kde=True)\n",
    "plt.axvline(x=Mx, color='green')\n",
    "plt.axvline(x=Mo, color='red');"
   ]
  },
  {
   "cell_type": "markdown",
   "id": "ad9b68db-d207-4d98-8c30-a856ea07ea50",
   "metadata": {},
   "source": [
    "#### <font color = SteelBlue size = 4> <b>Эксцесс</b> </font>\n",
    "\n",
    "<u>**Эксцесс**</u> – это степень отклонения эмпирической кривой распределения от теоретической кривой нормального распределения.\\\n",
    "Это количественная мера «горбатости» симметричного распределения, т.е. некоторой выпуклости или пологости.\n",
    "\n",
    "$\\displaystyle E_k = \\frac{m_4}{\\sigma^{4}_{e}}$, где \\\n",
    "$m_4$ – центральный эмпирический момент четвертого порядка: $m_4 = \\cfrac{\\sum^{n}_{i=1}{(x_i-\\bar{x})^4}}{n}$\n",
    "\n",
    "Эксцесс оказывается полезным при поиске тяжёлых хвостов. \\\n",
    "Большое значение эксцесса сигнализирует о наличии тяжёлых хвостов и выбросов в данных."
   ]
  },
  {
   "cell_type": "code",
   "execution_count": 38,
   "id": "dd0a5ec7-a685-4be9-a6a9-fbe0f51f9f76",
   "metadata": {},
   "outputs": [
    {
     "data": {
      "text/plain": [
       "34.58554043194243"
      ]
     },
     "execution_count": 38,
     "metadata": {},
     "output_type": "execute_result"
    }
   ],
   "source": [
    "df['price'].kurtosis()"
   ]
  },
  {
   "cell_type": "markdown",
   "id": "318ebd7a-4114-478f-a0bc-12f35f8828f3",
   "metadata": {},
   "source": [
    "### <font color = MediumBlue size = 5> <b>Квантили распределения</b> </font>\n",
    "\n",
    "Одним из наиболее действенных методов описания выборки является описание с помощью квантилей и процентилей.\n",
    "\n",
    "**<u>Квантиль</u> $Q$** – это значение, отделяющее от распределения слева или справа определенную долю объема совокупности.\n",
    "\n",
    "**<u>Квартили</u> $Q_1,Q_2,Q_3$** – это три точки (значения признака), которые делят упорядоченное множество данных на четыре части. \\\n",
    "Первый квартиль ($Q_1$),отделяет слева 25% объема совокупности. Второй квартиль ($Q_2$),делит совокупность на две равные по объему части (по 50%),он называется медианой. Третий квартиль ($Q_3$) отделяет слева 75% объема совокупности или справа 25% объема.\n",
    "\n",
    "**<u>Децили</u> $D_1,D_2,\\ldots,Q_9$** – это варианты, которые делят упорядоченный вариационный ряд на 10 равных (по количеству вариант) частей.\n",
    "\n",
    "**<u>Процентили</u> $Р_1,P_2,\\ldots,P_{99}$** – это точки (их 99) которые делят упорядоченное множество данных на 100 частей.\n",
    "\n",
    "Считается, что $n$-й процентиль – это такое значение, ниже которого расположено $n$ процентов наблюдений данной переменной. Следовательно, 40-й процентиль – это значение, ниже которого расположено 40% результатов наблюдений; 50-й процентиль называется медианой, а 25-й и 75-й процентили – нижним и верхним квантилям соответственно.\n",
    "\n",
    "Квантили и процентили используются для определения частоты встречаемости тех или иных значений (или интервалов) измеренного признака или для выделения подгрупп и отдельных испытуемых, наиболее типичных или нетипичных для данного множества наблюдений. Через квартили так же могут определяться числовые характеристики положения, рассеяния и асимметрии.\n",
    "\n",
    "После разбиения вариационного ряда каждый участок исследуется по отдельности – рассчитываются локальные средние показатели, локальные показатели вариации и т.д."
   ]
  },
  {
   "cell_type": "code",
   "execution_count": 39,
   "id": "46254bc9-2057-449f-8412-fa5136c98972",
   "metadata": {},
   "outputs": [
    {
     "data": {
      "text/plain": [
       "array([ 210.  ,  321.95,  450.  ,  645.  , 1156.48])"
      ]
     },
     "execution_count": 39,
     "metadata": {},
     "output_type": "execute_result"
    }
   ],
   "source": [
    "np.quantile(df['price'], [0.05, 0.25, 0.5, 0.75, 0.95])"
   ]
  },
  {
   "cell_type": "code",
   "execution_count": 40,
   "id": "8f0467a7-1e7a-4706-9078-4a9e1a7d7c4d",
   "metadata": {},
   "outputs": [
    {
     "data": {
      "text/plain": [
       "array([ 210.  ,  321.95,  450.  ,  645.  , 1156.48])"
      ]
     },
     "execution_count": 40,
     "metadata": {},
     "output_type": "execute_result"
    }
   ],
   "source": [
    "np.percentile(df['price'], [5, 25, 50, 75, 95])"
   ]
  },
  {
   "cell_type": "code",
   "execution_count": 41,
   "id": "7b33805a-49f2-4fc6-803d-1c8388c7876e",
   "metadata": {},
   "outputs": [
    {
     "data": {
      "text/plain": [
       "0.05     210.00\n",
       "0.25     321.95\n",
       "0.50     450.00\n",
       "0.75     645.00\n",
       "0.95    1156.48\n",
       "Name: price, dtype: float64"
      ]
     },
     "execution_count": 41,
     "metadata": {},
     "output_type": "execute_result"
    }
   ],
   "source": [
    "df['price'].quantile([0.05, 0.25, 0.5, 0.75, 0.95])"
   ]
  },
  {
   "cell_type": "code",
   "execution_count": 42,
   "id": "985e911f-a35e-4902-8070-94ba55aa1fe9",
   "metadata": {},
   "outputs": [
    {
     "data": {
      "text/html": [
       "<div>\n",
       "<style scoped>\n",
       "    .dataframe tbody tr th:only-of-type {\n",
       "        vertical-align: middle;\n",
       "    }\n",
       "\n",
       "    .dataframe tbody tr th {\n",
       "        vertical-align: top;\n",
       "    }\n",
       "\n",
       "    .dataframe thead th {\n",
       "        text-align: right;\n",
       "    }\n",
       "</style>\n",
       "<table border=\"1\" class=\"dataframe\">\n",
       "  <thead>\n",
       "    <tr style=\"text-align: right;\">\n",
       "      <th></th>\n",
       "      <th>5.0%</th>\n",
       "      <th>25.0%</th>\n",
       "      <th>50.0%</th>\n",
       "      <th>75.0%</th>\n",
       "      <th>95.0%</th>\n",
       "    </tr>\n",
       "  </thead>\n",
       "  <tbody>\n",
       "    <tr>\n",
       "      <th>price</th>\n",
       "      <td>210.0</td>\n",
       "      <td>321.95</td>\n",
       "      <td>450.0</td>\n",
       "      <td>645.0</td>\n",
       "      <td>1156.48</td>\n",
       "    </tr>\n",
       "  </tbody>\n",
       "</table>\n",
       "</div>"
      ],
      "text/plain": [
       "        5.0%   25.0%  50.0%  75.0%    95.0%\n",
       "price  210.0  321.95  450.0  645.0  1156.48"
      ]
     },
     "execution_count": 42,
     "metadata": {},
     "output_type": "execute_result"
    }
   ],
   "source": [
    "quantiles = [0.05, 0.25, 0.5, 0.75, 0.95]\n",
    "data = pd.DataFrame(df['price'].quantile(quantiles))\n",
    "data.index = [f'{p * 100}%' for p in quantiles]\n",
    "data.transpose()"
   ]
  },
  {
   "cell_type": "markdown",
   "id": "a4c65d62-ce10-4907-8d0e-c337692941c9",
   "metadata": {},
   "source": [
    "**Квантиль уровня $\\gamma$** – это такое число $q$, при котором $P(X \\leq q) = \\gamma$."
   ]
  },
  {
   "cell_type": "code",
   "execution_count": 43,
   "id": "973a475b-a293-4a9b-90ae-a7a753bce8cc",
   "metadata": {},
   "outputs": [
    {
     "data": {
      "text/plain": [
       "321.95"
      ]
     },
     "execution_count": 43,
     "metadata": {},
     "output_type": "execute_result"
    }
   ],
   "source": [
    "q = np.quantile(df['price'], 0.25)\n",
    "q"
   ]
  },
  {
   "cell_type": "code",
   "execution_count": 44,
   "id": "a9a90e16-0150-40c3-bcdf-f17818e13a4c",
   "metadata": {},
   "outputs": [
    {
     "data": {
      "image/png": "[encoded data removed]",
      "text/plain": [
       "<Figure size 1500x400 with 1 Axes>"
      ]
     },
     "metadata": {},
     "output_type": "display_data"
    }
   ],
   "source": [
    "fig, ax = plt.subplots(figsize=(15, 4))\n",
    "\n",
    "sns.histplot(data=df, x='price', binwidth=50, kde=True)\n",
    "ax.axvline(q, color='red', linestyle=\"--\", lw=1.5);"
   ]
  },
  {
   "cell_type": "markdown",
   "id": "aecfbe9a-d01d-49c6-af39-d6c3df32bcc4",
   "metadata": {},
   "source": [
    "### <font color = MediumBlue size = 5> <b>Ящик с усами (boxplot)</b> </font>\n",
    "\n",
    "По ящику с усами можно узнать медиану распределения (жирная линия в центре).\\\n",
    "1 квартиль распределения (квантиль уровня 0.25), 3 квартиль распределения (квантиль уровня 0.75), интер-квартильный размах.\\\n",
    "Еще можно судить об ассиметрии выборки по смещению медианы относительно центра интер-квартильного размаха.\\\n",
    "Усы графика означают \"нормальное\" расстояние или еще это расстояние называют данными без выбросов. В диапазоне \"нормального\" расстояния лежит 99,3% всех измерений, остальные 0,7% принято считать выбросами. То есть это те значения которые очень сильно отклоняются вверх или вниз. Точками на таком графике отображаются выбросы.\n",
    "\n",
    "<u>**Интер-квартильный размах**</u> (IQR) – \"расстояние\" или разница между 3 и 1 квартилем (25-м и 75-м процентилями). По этому показателю можно судить насколько сильно разбросана выборка. В пределах интер-квартильного размаха лежит 50% всех наблюдений.\n",
    "\n",
    "<img src=\"./img/st_02_image1.png\" width=\"700\"/>\n",
    "\n",
    "**Правило 1.5 интерквантильных размахов (IQR):**\\\n",
    "если наблюдение оказались за пределами выделенного интервала, оно выброс.\\\n",
    "Иногда используют 3 IQR."
   ]
  },
  {
   "cell_type": "code",
   "execution_count": 45,
   "id": "ea3d1f36-e552-4e49-b268-11a4c19a2c8c",
   "metadata": {},
   "outputs": [
    {
     "data": {
      "image/png": "[encoded data removed]",
      "text/plain": [
       "<Figure size 1500x400 with 2 Axes>"
      ]
     },
     "metadata": {},
     "output_type": "display_data"
    }
   ],
   "source": [
    "fig, axs = plt.subplots(2, 1, figsize=(15, 4), sharex=True, gridspec_kw = {'height_ratios': (.35, .65)})\n",
    "\n",
    "sns.boxplot(data=df, x='price', ax=axs[0])\n",
    "sns.violinplot(data=df, x='price', ax=axs[1])\n",
    "for ax in axs:\n",
    "    ax.grid();"
   ]
  },
  {
   "cell_type": "markdown",
   "id": "1a7c3d4c-b468-4072-b811-fb441f4e9f8c",
   "metadata": {},
   "source": [
    "Несколько примеров распределений, на которых точки перетекают из одной области в другую, но при этом форма ящика с усами никак не меняется."
   ]
  },
  {
   "cell_type": "markdown",
   "id": "60e17349-5475-40b1-a161-ce8104d94b61",
   "metadata": {},
   "source": [
    "![](./img/boxplots.gif)"
   ]
  },
  {
   "cell_type": "markdown",
   "id": "4adc6749-13c2-489b-b629-e121aca0c9df",
   "metadata": {},
   "source": [
    "![](./img/BoxViolinSmaller.gif)"
   ]
  },
  {
   "cell_type": "code",
   "execution_count": null,
   "id": "f279cacc-4a34-4a5a-b6e5-28eba20e2964",
   "metadata": {},
   "outputs": [],
   "source": []
  },
  {
   "cell_type": "markdown",
   "id": "60fb1356-f9cf-4071-8416-5ae76d0ef58f",
   "metadata": {},
   "source": [
    "1. **Плотность распределения** (*распределение признака, хвосты слева и справа*):\n",
    "    - plt.hist\n",
    "    - sns.displot\n",
    "    - sns.kdeplot\n",
    "\n",
    "<br>\n",
    "\n",
    "2. **Ящик с усами** (*диапазон значений, выбросы*):\n",
    "\t- plt.boxplot\n",
    "\t- sns.boxplot\n",
    "\t- sns.violinplot\n",
    "\n",
    "<br>\n",
    "\n",
    "3. **Столбчатая диаграмма** (*распределение категориального признака*):\n",
    "\t- plt.bar\n",
    "\t- sns.barplot\n",
    "\n",
    "<br>\n",
    "\n",
    "4. **Доля объектов** от всего кол-ва:\n",
    "\t- plt.pie\n",
    "\n",
    "<br>\n",
    "\n",
    "5. **Взаимное изменение признаков**:\n",
    "\t- sns.jointplot\n",
    "\t- sns.regplot\n",
    "    - sns.pairplot"
   ]
  },
  {
   "cell_type": "code",
   "execution_count": null,
   "id": "c393f507-8c81-4f32-a201-f544cc8386fa",
   "metadata": {},
   "outputs": [],
   "source": []
  },
  {
   "cell_type": "code",
   "execution_count": null,
   "id": "cdc37b80-fc48-4a3e-af82-401862dc35fa",
   "metadata": {},
   "outputs": [],
   "source": [
    "# df.columns"
   ]
  },
  {
   "cell_type": "code",
   "execution_count": 46,
   "id": "cbd94f80-84b3-4f45-9776-ab4ed970c37d",
   "metadata": {},
   "outputs": [
    {
     "data": {
      "text/html": [
       "<div>\n",
       "<style scoped>\n",
       "    .dataframe tbody tr th:only-of-type {\n",
       "        vertical-align: middle;\n",
       "    }\n",
       "\n",
       "    .dataframe tbody tr th {\n",
       "        vertical-align: top;\n",
       "    }\n",
       "\n",
       "    .dataframe thead th {\n",
       "        text-align: right;\n",
       "    }\n",
       "</style>\n",
       "<table border=\"1\" class=\"dataframe\">\n",
       "  <thead>\n",
       "    <tr style=\"text-align: right;\">\n",
       "      <th></th>\n",
       "      <th>id</th>\n",
       "      <th>date</th>\n",
       "      <th>price</th>\n",
       "      <th>bedrooms</th>\n",
       "      <th>bathrooms</th>\n",
       "      <th>sqft_living</th>\n",
       "      <th>sqft_lot</th>\n",
       "      <th>floors</th>\n",
       "      <th>waterfront</th>\n",
       "      <th>view</th>\n",
       "      <th>condition</th>\n",
       "      <th>grade</th>\n",
       "      <th>sqft_above</th>\n",
       "      <th>sqft_basement</th>\n",
       "      <th>yr_built</th>\n",
       "      <th>yr_renovated</th>\n",
       "      <th>zipcode</th>\n",
       "      <th>lat</th>\n",
       "      <th>long</th>\n",
       "      <th>sqft_living15</th>\n",
       "      <th>sqft_lot15</th>\n",
       "      <th>weight</th>\n",
       "    </tr>\n",
       "  </thead>\n",
       "  <tbody>\n",
       "    <tr>\n",
       "      <th>count</th>\n",
       "      <td>2.161300e+04</td>\n",
       "      <td>21613</td>\n",
       "      <td>21613.000000</td>\n",
       "      <td>21613.000000</td>\n",
       "      <td>21613.000000</td>\n",
       "      <td>21613.000000</td>\n",
       "      <td>2.161300e+04</td>\n",
       "      <td>21613.000000</td>\n",
       "      <td>21613.000000</td>\n",
       "      <td>21613.000000</td>\n",
       "      <td>21613.000000</td>\n",
       "      <td>21613.000000</td>\n",
       "      <td>21613.000000</td>\n",
       "      <td>21613.000000</td>\n",
       "      <td>21613.000000</td>\n",
       "      <td>21613.000000</td>\n",
       "      <td>21613.000000</td>\n",
       "      <td>21613.000000</td>\n",
       "      <td>21613.000000</td>\n",
       "      <td>21613.000000</td>\n",
       "      <td>21613.000000</td>\n",
       "      <td>21613.000000</td>\n",
       "    </tr>\n",
       "    <tr>\n",
       "      <th>mean</th>\n",
       "      <td>4.580302e+09</td>\n",
       "      <td>2014-10-29 04:38:01.959931648</td>\n",
       "      <td>540.088142</td>\n",
       "      <td>3.370842</td>\n",
       "      <td>2.114757</td>\n",
       "      <td>2079.899736</td>\n",
       "      <td>1.510697e+04</td>\n",
       "      <td>1.494309</td>\n",
       "      <td>0.007542</td>\n",
       "      <td>0.234303</td>\n",
       "      <td>3.409430</td>\n",
       "      <td>7.656873</td>\n",
       "      <td>1788.390691</td>\n",
       "      <td>291.509045</td>\n",
       "      <td>1971.005136</td>\n",
       "      <td>84.402258</td>\n",
       "      <td>98077.939805</td>\n",
       "      <td>47.560053</td>\n",
       "      <td>-122.213896</td>\n",
       "      <td>1986.552492</td>\n",
       "      <td>12768.455652</td>\n",
       "      <td>0.205135</td>\n",
       "    </tr>\n",
       "    <tr>\n",
       "      <th>min</th>\n",
       "      <td>1.000102e+06</td>\n",
       "      <td>2014-05-02 00:00:00</td>\n",
       "      <td>75.000000</td>\n",
       "      <td>0.000000</td>\n",
       "      <td>0.000000</td>\n",
       "      <td>290.000000</td>\n",
       "      <td>5.200000e+02</td>\n",
       "      <td>1.000000</td>\n",
       "      <td>0.000000</td>\n",
       "      <td>0.000000</td>\n",
       "      <td>1.000000</td>\n",
       "      <td>1.000000</td>\n",
       "      <td>290.000000</td>\n",
       "      <td>0.000000</td>\n",
       "      <td>1900.000000</td>\n",
       "      <td>0.000000</td>\n",
       "      <td>98001.000000</td>\n",
       "      <td>47.155900</td>\n",
       "      <td>-122.519000</td>\n",
       "      <td>399.000000</td>\n",
       "      <td>651.000000</td>\n",
       "      <td>0.076923</td>\n",
       "    </tr>\n",
       "    <tr>\n",
       "      <th>25%</th>\n",
       "      <td>2.123049e+09</td>\n",
       "      <td>2014-07-22 00:00:00</td>\n",
       "      <td>321.950000</td>\n",
       "      <td>3.000000</td>\n",
       "      <td>1.750000</td>\n",
       "      <td>1427.000000</td>\n",
       "      <td>5.040000e+03</td>\n",
       "      <td>1.000000</td>\n",
       "      <td>0.000000</td>\n",
       "      <td>0.000000</td>\n",
       "      <td>3.000000</td>\n",
       "      <td>7.000000</td>\n",
       "      <td>1190.000000</td>\n",
       "      <td>0.000000</td>\n",
       "      <td>1951.000000</td>\n",
       "      <td>0.000000</td>\n",
       "      <td>98033.000000</td>\n",
       "      <td>47.471000</td>\n",
       "      <td>-122.328000</td>\n",
       "      <td>1490.000000</td>\n",
       "      <td>5100.000000</td>\n",
       "      <td>0.090909</td>\n",
       "    </tr>\n",
       "    <tr>\n",
       "      <th>50%</th>\n",
       "      <td>3.904930e+09</td>\n",
       "      <td>2014-10-16 00:00:00</td>\n",
       "      <td>450.000000</td>\n",
       "      <td>3.000000</td>\n",
       "      <td>2.250000</td>\n",
       "      <td>1910.000000</td>\n",
       "      <td>7.618000e+03</td>\n",
       "      <td>1.500000</td>\n",
       "      <td>0.000000</td>\n",
       "      <td>0.000000</td>\n",
       "      <td>3.000000</td>\n",
       "      <td>7.000000</td>\n",
       "      <td>1560.000000</td>\n",
       "      <td>0.000000</td>\n",
       "      <td>1975.000000</td>\n",
       "      <td>0.000000</td>\n",
       "      <td>98065.000000</td>\n",
       "      <td>47.571800</td>\n",
       "      <td>-122.230000</td>\n",
       "      <td>1840.000000</td>\n",
       "      <td>7620.000000</td>\n",
       "      <td>0.125000</td>\n",
       "    </tr>\n",
       "    <tr>\n",
       "      <th>75%</th>\n",
       "      <td>7.308900e+09</td>\n",
       "      <td>2015-02-17 00:00:00</td>\n",
       "      <td>645.000000</td>\n",
       "      <td>4.000000</td>\n",
       "      <td>2.500000</td>\n",
       "      <td>2550.000000</td>\n",
       "      <td>1.068800e+04</td>\n",
       "      <td>2.000000</td>\n",
       "      <td>0.000000</td>\n",
       "      <td>0.000000</td>\n",
       "      <td>4.000000</td>\n",
       "      <td>8.000000</td>\n",
       "      <td>2210.000000</td>\n",
       "      <td>560.000000</td>\n",
       "      <td>1997.000000</td>\n",
       "      <td>0.000000</td>\n",
       "      <td>98118.000000</td>\n",
       "      <td>47.678000</td>\n",
       "      <td>-122.125000</td>\n",
       "      <td>2360.000000</td>\n",
       "      <td>10083.000000</td>\n",
       "      <td>0.250000</td>\n",
       "    </tr>\n",
       "    <tr>\n",
       "      <th>max</th>\n",
       "      <td>9.900000e+09</td>\n",
       "      <td>2015-05-27 00:00:00</td>\n",
       "      <td>7700.000000</td>\n",
       "      <td>33.000000</td>\n",
       "      <td>8.000000</td>\n",
       "      <td>13540.000000</td>\n",
       "      <td>1.651359e+06</td>\n",
       "      <td>3.500000</td>\n",
       "      <td>1.000000</td>\n",
       "      <td>4.000000</td>\n",
       "      <td>5.000000</td>\n",
       "      <td>13.000000</td>\n",
       "      <td>9410.000000</td>\n",
       "      <td>4820.000000</td>\n",
       "      <td>2015.000000</td>\n",
       "      <td>2015.000000</td>\n",
       "      <td>98199.000000</td>\n",
       "      <td>47.777600</td>\n",
       "      <td>-121.315000</td>\n",
       "      <td>6210.000000</td>\n",
       "      <td>871200.000000</td>\n",
       "      <td>1.000000</td>\n",
       "    </tr>\n",
       "    <tr>\n",
       "      <th>std</th>\n",
       "      <td>2.876566e+09</td>\n",
       "      <td>NaN</td>\n",
       "      <td>367.127196</td>\n",
       "      <td>0.930062</td>\n",
       "      <td>0.770163</td>\n",
       "      <td>918.440897</td>\n",
       "      <td>4.142051e+04</td>\n",
       "      <td>0.539989</td>\n",
       "      <td>0.086517</td>\n",
       "      <td>0.766318</td>\n",
       "      <td>0.650743</td>\n",
       "      <td>1.175459</td>\n",
       "      <td>828.090978</td>\n",
       "      <td>442.575043</td>\n",
       "      <td>29.373411</td>\n",
       "      <td>401.679240</td>\n",
       "      <td>53.505026</td>\n",
       "      <td>0.138564</td>\n",
       "      <td>0.140828</td>\n",
       "      <td>685.391304</td>\n",
       "      <td>27304.179631</td>\n",
       "      <td>0.184335</td>\n",
       "    </tr>\n",
       "  </tbody>\n",
       "</table>\n",
       "</div>"
      ],
      "text/plain": [
       "                 id                           date         price  \\\n",
       "count  2.161300e+04                          21613  21613.000000   \n",
       "mean   4.580302e+09  2014-10-29 04:38:01.959931648    540.088142   \n",
       "min    1.000102e+06            2014-05-02 00:00:00     75.000000   \n",
       "25%    2.123049e+09            2014-07-22 00:00:00    321.950000   \n",
       "50%    3.904930e+09            2014-10-16 00:00:00    450.000000   \n",
       "75%    7.308900e+09            2015-02-17 00:00:00    645.000000   \n",
       "max    9.900000e+09            2015-05-27 00:00:00   7700.000000   \n",
       "std    2.876566e+09                            NaN    367.127196   \n",
       "\n",
       "           bedrooms     bathrooms   sqft_living      sqft_lot        floors  \\\n",
       "count  21613.000000  21613.000000  21613.000000  2.161300e+04  21613.000000   \n",
       "mean       3.370842      2.114757   2079.899736  1.510697e+04      1.494309   \n",
       "min        0.000000      0.000000    290.000000  5.200000e+02      1.000000   \n",
       "25%        3.000000      1.750000   1427.000000  5.040000e+03      1.000000   \n",
       "50%        3.000000      2.250000   1910.000000  7.618000e+03      1.500000   \n",
       "75%        4.000000      2.500000   2550.000000  1.068800e+04      2.000000   \n",
       "max       33.000000      8.000000  13540.000000  1.651359e+06      3.500000   \n",
       "std        0.930062      0.770163    918.440897  4.142051e+04      0.539989   \n",
       "\n",
       "         waterfront          view     condition         grade    sqft_above  \\\n",
       "count  21613.000000  21613.000000  21613.000000  21613.000000  21613.000000   \n",
       "mean       0.007542      0.234303      3.409430      7.656873   1788.390691   \n",
       "min        0.000000      0.000000      1.000000      1.000000    290.000000   \n",
       "25%        0.000000      0.000000      3.000000      7.000000   1190.000000   \n",
       "50%        0.000000      0.000000      3.000000      7.000000   1560.000000   \n",
       "75%        0.000000      0.000000      4.000000      8.000000   2210.000000   \n",
       "max        1.000000      4.000000      5.000000     13.000000   9410.000000   \n",
       "std        0.086517      0.766318      0.650743      1.175459    828.090978   \n",
       "\n",
       "       sqft_basement      yr_built  yr_renovated       zipcode           lat  \\\n",
       "count   21613.000000  21613.000000  21613.000000  21613.000000  21613.000000   \n",
       "mean      291.509045   1971.005136     84.402258  98077.939805     47.560053   \n",
       "min         0.000000   1900.000000      0.000000  98001.000000     47.155900   \n",
       "25%         0.000000   1951.000000      0.000000  98033.000000     47.471000   \n",
       "50%         0.000000   1975.000000      0.000000  98065.000000     47.571800   \n",
       "75%       560.000000   1997.000000      0.000000  98118.000000     47.678000   \n",
       "max      4820.000000   2015.000000   2015.000000  98199.000000     47.777600   \n",
       "std       442.575043     29.373411    401.679240     53.505026      0.138564   \n",
       "\n",
       "               long  sqft_living15     sqft_lot15        weight  \n",
       "count  21613.000000   21613.000000   21613.000000  21613.000000  \n",
       "mean    -122.213896    1986.552492   12768.455652      0.205135  \n",
       "min     -122.519000     399.000000     651.000000      0.076923  \n",
       "25%     -122.328000    1490.000000    5100.000000      0.090909  \n",
       "50%     -122.230000    1840.000000    7620.000000      0.125000  \n",
       "75%     -122.125000    2360.000000   10083.000000      0.250000  \n",
       "max     -121.315000    6210.000000  871200.000000      1.000000  \n",
       "std        0.140828     685.391304   27304.179631      0.184335  "
      ]
     },
     "execution_count": 46,
     "metadata": {},
     "output_type": "execute_result"
    }
   ],
   "source": [
    "df.describe()"
   ]
  },
  {
   "cell_type": "code",
   "execution_count": 47,
   "id": "f5ee6d81-47ec-43ef-839c-b566aa0fcb6b",
   "metadata": {},
   "outputs": [
    {
     "data": {
      "text/html": [
       "<div>\n",
       "<style scoped>\n",
       "    .dataframe tbody tr th:only-of-type {\n",
       "        vertical-align: middle;\n",
       "    }\n",
       "\n",
       "    .dataframe tbody tr th {\n",
       "        vertical-align: top;\n",
       "    }\n",
       "\n",
       "    .dataframe thead th {\n",
       "        text-align: right;\n",
       "    }\n",
       "</style>\n",
       "<table border=\"1\" class=\"dataframe\">\n",
       "  <thead>\n",
       "    <tr style=\"text-align: right;\">\n",
       "      <th></th>\n",
       "      <th>price</th>\n",
       "      <th>bedrooms</th>\n",
       "      <th>bathrooms</th>\n",
       "      <th>sqft_living</th>\n",
       "      <th>sqft_lot</th>\n",
       "      <th>floors</th>\n",
       "      <th>waterfront</th>\n",
       "      <th>view</th>\n",
       "      <th>condition</th>\n",
       "      <th>grade</th>\n",
       "      <th>sqft_above</th>\n",
       "      <th>sqft_basement</th>\n",
       "      <th>yr_built</th>\n",
       "      <th>yr_renovated</th>\n",
       "      <th>zipcode</th>\n",
       "      <th>lat</th>\n",
       "      <th>long</th>\n",
       "      <th>sqft_living15</th>\n",
       "      <th>sqft_lot15</th>\n",
       "    </tr>\n",
       "  </thead>\n",
       "  <tbody>\n",
       "    <tr>\n",
       "      <th>count</th>\n",
       "      <td>21613.000000</td>\n",
       "      <td>21613.000000</td>\n",
       "      <td>21613.000000</td>\n",
       "      <td>21613.000000</td>\n",
       "      <td>2.161300e+04</td>\n",
       "      <td>21613.000000</td>\n",
       "      <td>21613.000000</td>\n",
       "      <td>21613.000000</td>\n",
       "      <td>21613.000000</td>\n",
       "      <td>21613.000000</td>\n",
       "      <td>21613.000000</td>\n",
       "      <td>21613.000000</td>\n",
       "      <td>21613.000000</td>\n",
       "      <td>21613.000000</td>\n",
       "      <td>21613.000000</td>\n",
       "      <td>21613.000000</td>\n",
       "      <td>21613.000000</td>\n",
       "      <td>21613.000000</td>\n",
       "      <td>21613.000000</td>\n",
       "    </tr>\n",
       "    <tr>\n",
       "      <th>mean</th>\n",
       "      <td>540.088142</td>\n",
       "      <td>3.370842</td>\n",
       "      <td>2.114757</td>\n",
       "      <td>2079.899736</td>\n",
       "      <td>1.510697e+04</td>\n",
       "      <td>1.494309</td>\n",
       "      <td>0.007542</td>\n",
       "      <td>0.234303</td>\n",
       "      <td>3.409430</td>\n",
       "      <td>7.656873</td>\n",
       "      <td>1788.390691</td>\n",
       "      <td>291.509045</td>\n",
       "      <td>1971.005136</td>\n",
       "      <td>84.402258</td>\n",
       "      <td>98077.939805</td>\n",
       "      <td>47.560053</td>\n",
       "      <td>-122.213896</td>\n",
       "      <td>1986.552492</td>\n",
       "      <td>12768.455652</td>\n",
       "    </tr>\n",
       "    <tr>\n",
       "      <th>std</th>\n",
       "      <td>367.127196</td>\n",
       "      <td>0.930062</td>\n",
       "      <td>0.770163</td>\n",
       "      <td>918.440897</td>\n",
       "      <td>4.142051e+04</td>\n",
       "      <td>0.539989</td>\n",
       "      <td>0.086517</td>\n",
       "      <td>0.766318</td>\n",
       "      <td>0.650743</td>\n",
       "      <td>1.175459</td>\n",
       "      <td>828.090978</td>\n",
       "      <td>442.575043</td>\n",
       "      <td>29.373411</td>\n",
       "      <td>401.679240</td>\n",
       "      <td>53.505026</td>\n",
       "      <td>0.138564</td>\n",
       "      <td>0.140828</td>\n",
       "      <td>685.391304</td>\n",
       "      <td>27304.179631</td>\n",
       "    </tr>\n",
       "    <tr>\n",
       "      <th>min</th>\n",
       "      <td>75.000000</td>\n",
       "      <td>0.000000</td>\n",
       "      <td>0.000000</td>\n",
       "      <td>290.000000</td>\n",
       "      <td>5.200000e+02</td>\n",
       "      <td>1.000000</td>\n",
       "      <td>0.000000</td>\n",
       "      <td>0.000000</td>\n",
       "      <td>1.000000</td>\n",
       "      <td>1.000000</td>\n",
       "      <td>290.000000</td>\n",
       "      <td>0.000000</td>\n",
       "      <td>1900.000000</td>\n",
       "      <td>0.000000</td>\n",
       "      <td>98001.000000</td>\n",
       "      <td>47.155900</td>\n",
       "      <td>-122.519000</td>\n",
       "      <td>399.000000</td>\n",
       "      <td>651.000000</td>\n",
       "    </tr>\n",
       "    <tr>\n",
       "      <th>25%</th>\n",
       "      <td>321.950000</td>\n",
       "      <td>3.000000</td>\n",
       "      <td>1.750000</td>\n",
       "      <td>1427.000000</td>\n",
       "      <td>5.040000e+03</td>\n",
       "      <td>1.000000</td>\n",
       "      <td>0.000000</td>\n",
       "      <td>0.000000</td>\n",
       "      <td>3.000000</td>\n",
       "      <td>7.000000</td>\n",
       "      <td>1190.000000</td>\n",
       "      <td>0.000000</td>\n",
       "      <td>1951.000000</td>\n",
       "      <td>0.000000</td>\n",
       "      <td>98033.000000</td>\n",
       "      <td>47.471000</td>\n",
       "      <td>-122.328000</td>\n",
       "      <td>1490.000000</td>\n",
       "      <td>5100.000000</td>\n",
       "    </tr>\n",
       "    <tr>\n",
       "      <th>50%</th>\n",
       "      <td>450.000000</td>\n",
       "      <td>3.000000</td>\n",
       "      <td>2.250000</td>\n",
       "      <td>1910.000000</td>\n",
       "      <td>7.618000e+03</td>\n",
       "      <td>1.500000</td>\n",
       "      <td>0.000000</td>\n",
       "      <td>0.000000</td>\n",
       "      <td>3.000000</td>\n",
       "      <td>7.000000</td>\n",
       "      <td>1560.000000</td>\n",
       "      <td>0.000000</td>\n",
       "      <td>1975.000000</td>\n",
       "      <td>0.000000</td>\n",
       "      <td>98065.000000</td>\n",
       "      <td>47.571800</td>\n",
       "      <td>-122.230000</td>\n",
       "      <td>1840.000000</td>\n",
       "      <td>7620.000000</td>\n",
       "    </tr>\n",
       "    <tr>\n",
       "      <th>75%</th>\n",
       "      <td>645.000000</td>\n",
       "      <td>4.000000</td>\n",
       "      <td>2.500000</td>\n",
       "      <td>2550.000000</td>\n",
       "      <td>1.068800e+04</td>\n",
       "      <td>2.000000</td>\n",
       "      <td>0.000000</td>\n",
       "      <td>0.000000</td>\n",
       "      <td>4.000000</td>\n",
       "      <td>8.000000</td>\n",
       "      <td>2210.000000</td>\n",
       "      <td>560.000000</td>\n",
       "      <td>1997.000000</td>\n",
       "      <td>0.000000</td>\n",
       "      <td>98118.000000</td>\n",
       "      <td>47.678000</td>\n",
       "      <td>-122.125000</td>\n",
       "      <td>2360.000000</td>\n",
       "      <td>10083.000000</td>\n",
       "    </tr>\n",
       "    <tr>\n",
       "      <th>max</th>\n",
       "      <td>7700.000000</td>\n",
       "      <td>33.000000</td>\n",
       "      <td>8.000000</td>\n",
       "      <td>13540.000000</td>\n",
       "      <td>1.651359e+06</td>\n",
       "      <td>3.500000</td>\n",
       "      <td>1.000000</td>\n",
       "      <td>4.000000</td>\n",
       "      <td>5.000000</td>\n",
       "      <td>13.000000</td>\n",
       "      <td>9410.000000</td>\n",
       "      <td>4820.000000</td>\n",
       "      <td>2015.000000</td>\n",
       "      <td>2015.000000</td>\n",
       "      <td>98199.000000</td>\n",
       "      <td>47.777600</td>\n",
       "      <td>-121.315000</td>\n",
       "      <td>6210.000000</td>\n",
       "      <td>871200.000000</td>\n",
       "    </tr>\n",
       "  </tbody>\n",
       "</table>\n",
       "</div>"
      ],
      "text/plain": [
       "              price      bedrooms     bathrooms   sqft_living      sqft_lot  \\\n",
       "count  21613.000000  21613.000000  21613.000000  21613.000000  2.161300e+04   \n",
       "mean     540.088142      3.370842      2.114757   2079.899736  1.510697e+04   \n",
       "std      367.127196      0.930062      0.770163    918.440897  4.142051e+04   \n",
       "min       75.000000      0.000000      0.000000    290.000000  5.200000e+02   \n",
       "25%      321.950000      3.000000      1.750000   1427.000000  5.040000e+03   \n",
       "50%      450.000000      3.000000      2.250000   1910.000000  7.618000e+03   \n",
       "75%      645.000000      4.000000      2.500000   2550.000000  1.068800e+04   \n",
       "max     7700.000000     33.000000      8.000000  13540.000000  1.651359e+06   \n",
       "\n",
       "             floors    waterfront          view     condition         grade  \\\n",
       "count  21613.000000  21613.000000  21613.000000  21613.000000  21613.000000   \n",
       "mean       1.494309      0.007542      0.234303      3.409430      7.656873   \n",
       "std        0.539989      0.086517      0.766318      0.650743      1.175459   \n",
       "min        1.000000      0.000000      0.000000      1.000000      1.000000   \n",
       "25%        1.000000      0.000000      0.000000      3.000000      7.000000   \n",
       "50%        1.500000      0.000000      0.000000      3.000000      7.000000   \n",
       "75%        2.000000      0.000000      0.000000      4.000000      8.000000   \n",
       "max        3.500000      1.000000      4.000000      5.000000     13.000000   \n",
       "\n",
       "         sqft_above  sqft_basement      yr_built  yr_renovated       zipcode  \\\n",
       "count  21613.000000   21613.000000  21613.000000  21613.000000  21613.000000   \n",
       "mean    1788.390691     291.509045   1971.005136     84.402258  98077.939805   \n",
       "std      828.090978     442.575043     29.373411    401.679240     53.505026   \n",
       "min      290.000000       0.000000   1900.000000      0.000000  98001.000000   \n",
       "25%     1190.000000       0.000000   1951.000000      0.000000  98033.000000   \n",
       "50%     1560.000000       0.000000   1975.000000      0.000000  98065.000000   \n",
       "75%     2210.000000     560.000000   1997.000000      0.000000  98118.000000   \n",
       "max     9410.000000    4820.000000   2015.000000   2015.000000  98199.000000   \n",
       "\n",
       "                lat          long  sqft_living15     sqft_lot15  \n",
       "count  21613.000000  21613.000000   21613.000000   21613.000000  \n",
       "mean      47.560053   -122.213896    1986.552492   12768.455652  \n",
       "std        0.138564      0.140828     685.391304   27304.179631  \n",
       "min       47.155900   -122.519000     399.000000     651.000000  \n",
       "25%       47.471000   -122.328000    1490.000000    5100.000000  \n",
       "50%       47.571800   -122.230000    1840.000000    7620.000000  \n",
       "75%       47.678000   -122.125000    2360.000000   10083.000000  \n",
       "max       47.777600   -121.315000    6210.000000  871200.000000  "
      ]
     },
     "execution_count": 47,
     "metadata": {},
     "output_type": "execute_result"
    }
   ],
   "source": [
    "df[['price', 'bedrooms', 'bathrooms', 'sqft_living', 'sqft_lot', 'floors', 'waterfront', 'view', 'condition', 'grade',\n",
    "    'sqft_above', 'sqft_basement', 'yr_built', 'yr_renovated', 'zipcode', 'lat', 'long', 'sqft_living15', 'sqft_lot15']].describe()"
   ]
  },
  {
   "cell_type": "code",
   "execution_count": 48,
   "id": "4bf9672c-72b8-43d8-a25d-347f4783f882",
   "metadata": {},
   "outputs": [
    {
     "data": {
      "text/html": [
       "<div>\n",
       "<style scoped>\n",
       "    .dataframe tbody tr th:only-of-type {\n",
       "        vertical-align: middle;\n",
       "    }\n",
       "\n",
       "    .dataframe tbody tr th {\n",
       "        vertical-align: top;\n",
       "    }\n",
       "\n",
       "    .dataframe thead th {\n",
       "        text-align: right;\n",
       "    }\n",
       "</style>\n",
       "<table border=\"1\" class=\"dataframe\">\n",
       "  <thead>\n",
       "    <tr style=\"text-align: right;\">\n",
       "      <th></th>\n",
       "      <th>date</th>\n",
       "    </tr>\n",
       "  </thead>\n",
       "  <tbody>\n",
       "    <tr>\n",
       "      <th>count</th>\n",
       "      <td>21613</td>\n",
       "    </tr>\n",
       "    <tr>\n",
       "      <th>mean</th>\n",
       "      <td>2014-10-29 04:38:01.959931648</td>\n",
       "    </tr>\n",
       "    <tr>\n",
       "      <th>min</th>\n",
       "      <td>2014-05-02 00:00:00</td>\n",
       "    </tr>\n",
       "    <tr>\n",
       "      <th>25%</th>\n",
       "      <td>2014-07-22 00:00:00</td>\n",
       "    </tr>\n",
       "    <tr>\n",
       "      <th>50%</th>\n",
       "      <td>2014-10-16 00:00:00</td>\n",
       "    </tr>\n",
       "    <tr>\n",
       "      <th>75%</th>\n",
       "      <td>2015-02-17 00:00:00</td>\n",
       "    </tr>\n",
       "    <tr>\n",
       "      <th>max</th>\n",
       "      <td>2015-05-27 00:00:00</td>\n",
       "    </tr>\n",
       "  </tbody>\n",
       "</table>\n",
       "</div>"
      ],
      "text/plain": [
       "                                date\n",
       "count                          21613\n",
       "mean   2014-10-29 04:38:01.959931648\n",
       "min              2014-05-02 00:00:00\n",
       "25%              2014-07-22 00:00:00\n",
       "50%              2014-10-16 00:00:00\n",
       "75%              2015-02-17 00:00:00\n",
       "max              2015-05-27 00:00:00"
      ]
     },
     "execution_count": 48,
     "metadata": {},
     "output_type": "execute_result"
    }
   ],
   "source": [
    "df.describe(include=['datetime'])"
   ]
  },
  {
   "cell_type": "code",
   "execution_count": null,
   "id": "47910e60-dd8c-4eea-8125-f47f3ad68242",
   "metadata": {},
   "outputs": [],
   "source": [
    "df.describe(include=['object'])"
   ]
  },
  {
   "cell_type": "code",
   "execution_count": null,
   "id": "827c5869-5e82-4870-84b7-ffd76ff1e545",
   "metadata": {},
   "outputs": [],
   "source": []
  }
 ],
 "metadata": {
  "kernelspec": {
   "display_name": "Python 3 (ipykernel)",
   "language": "python",
   "name": "python3"
  },
  "language_info": {
   "codemirror_mode": {
    "name": "ipython",
    "version": 3
   },
   "file_extension": ".py",
   "mimetype": "text/x-python",
   "name": "python",
   "nbconvert_exporter": "python",
   "pygments_lexer": "ipython3",
   "version": "3.12.7"
  }
 },
 "nbformat": 4,
 "nbformat_minor": 5
}
